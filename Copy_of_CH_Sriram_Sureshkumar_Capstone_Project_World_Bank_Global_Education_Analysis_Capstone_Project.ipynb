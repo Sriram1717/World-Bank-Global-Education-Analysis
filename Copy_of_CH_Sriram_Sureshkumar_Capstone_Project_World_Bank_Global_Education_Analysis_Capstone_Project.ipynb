{
  "nbformat": 4,
  "nbformat_minor": 0,
  "metadata": {
    "kernelspec": {
      "display_name": "Python 3",
      "language": "python",
      "name": "python3"
    },
    "language_info": {
      "codemirror_mode": {
        "name": "ipython",
        "version": 3
      },
      "file_extension": ".py",
      "mimetype": "text/x-python",
      "name": "python",
      "nbconvert_exporter": "python",
      "pygments_lexer": "ipython3",
      "version": "3.6.6"
    },
    "colab": {
      "name": "Copy of CH - Sriram Sureshkumar - Capstone Project - World Bank Global Education Analysis - Capstone Project.ipynb",
      "provenance": [],
      "collapsed_sections": [
        "3fpFSVZJ6-OV"
      ],
      "include_colab_link": true
    }
  },
  "cells": [
    {
      "cell_type": "markdown",
      "metadata": {
        "id": "view-in-github",
        "colab_type": "text"
      },
      "source": [
        "<a href=\"https://colab.research.google.com/github/Sriram1717/World-Bank-Global-Education-Analysis/blob/main/Copy_of_CH_Sriram_Sureshkumar_Capstone_Project_World_Bank_Global_Education_Analysis_Capstone_Project.ipynb\" target=\"_parent\"><img src=\"https://colab.research.google.com/assets/colab-badge.svg\" alt=\"Open In Colab\"/></a>"
      ]
    },
    {
      "cell_type": "markdown",
      "metadata": {
        "id": "Y06xIdG26kRF"
      },
      "source": [
        "## <b> The World Bank EdStats All Indicator Query holds over 4,000 internationally comparable indicators that describe education access, progression, completion, literacy, teachers, population, and expenditures.The indicators cover the education cycle from pre-primary to vocational and tertiary education and also holds learning outcome data from international and regional learning assessments (e.g. PISA, TIMSS, PIRLS), equity data from household surveys, and projection/attainment data. </b>\n",
        "\n",
        "## <b> Explore and analyze the data to identify variation of indicators across the globe, which countries are more alike and different. Feel free to add more extensive analyses and details.</b>"
      ]
    },
    {
      "cell_type": "code",
      "metadata": {
        "id": "dByMsuzT8Tnw"
      },
      "source": [
        "import pandas as pd\n",
        "import numpy as np\n",
        "import matplotlib.pyplot as plt\n",
        "import seaborn as sns"
      ],
      "execution_count": 1,
      "outputs": []
    },
    {
      "cell_type": "code",
      "metadata": {
        "colab": {
          "base_uri": "https://localhost:8080/"
        },
        "id": "lnUt2X_5fJ0M",
        "outputId": "f2848db2-3a9a-4a55-9a1c-d49556ca8ed6"
      },
      "source": [
        "from google.colab import drive\n",
        "drive.mount('/content/drive')"
      ],
      "execution_count": 2,
      "outputs": [
        {
          "output_type": "stream",
          "text": [
            "Mounted at /content/drive\n"
          ],
          "name": "stdout"
        }
      ]
    },
    {
      "cell_type": "code",
      "metadata": {
        "id": "EcMQc_xnfXKI"
      },
      "source": [
        "df_country_series = pd.read_csv('/content/drive/MyDrive/Colab Notebooks/Almabetter/Module 1/Week 4/Copy of EdStatsCountry-Series.csv')\n",
        "df_country = pd.read_csv('/content/drive/MyDrive/Colab Notebooks/Almabetter/Module 1/Week 4/Copy of EdStatsCountry.csv')\n",
        "df_data = pd.read_csv('/content/drive/MyDrive/Colab Notebooks/Almabetter/Module 1/Week 4/Copy of EdStatsData.csv')\n",
        "df_footnote = pd.read_csv('/content/drive/MyDrive/Colab Notebooks/Almabetter/Module 1/Week 4/Copy of EdStatsFootNote.csv')\n",
        "df_series = pd.read_csv('/content/drive/MyDrive/Colab Notebooks/Almabetter/Module 1/Week 4/Copy of EdStatsSeries.csv')"
      ],
      "execution_count": 3,
      "outputs": []
    },
    {
      "cell_type": "code",
      "metadata": {
        "colab": {
          "base_uri": "https://localhost:8080/",
          "height": 204
        },
        "id": "tWOl-3kAfwKs",
        "outputId": "ba09c3dc-a753-4ff9-a417-60387a872203"
      },
      "source": [
        "df_country_series.head()"
      ],
      "execution_count": 4,
      "outputs": [
        {
          "output_type": "execute_result",
          "data": {
            "text/html": [
              "<div>\n",
              "<style scoped>\n",
              "    .dataframe tbody tr th:only-of-type {\n",
              "        vertical-align: middle;\n",
              "    }\n",
              "\n",
              "    .dataframe tbody tr th {\n",
              "        vertical-align: top;\n",
              "    }\n",
              "\n",
              "    .dataframe thead th {\n",
              "        text-align: right;\n",
              "    }\n",
              "</style>\n",
              "<table border=\"1\" class=\"dataframe\">\n",
              "  <thead>\n",
              "    <tr style=\"text-align: right;\">\n",
              "      <th></th>\n",
              "      <th>CountryCode</th>\n",
              "      <th>SeriesCode</th>\n",
              "      <th>DESCRIPTION</th>\n",
              "      <th>Unnamed: 3</th>\n",
              "    </tr>\n",
              "  </thead>\n",
              "  <tbody>\n",
              "    <tr>\n",
              "      <th>0</th>\n",
              "      <td>ABW</td>\n",
              "      <td>SP.POP.TOTL</td>\n",
              "      <td>Data sources : United Nations World Population...</td>\n",
              "      <td>NaN</td>\n",
              "    </tr>\n",
              "    <tr>\n",
              "      <th>1</th>\n",
              "      <td>ABW</td>\n",
              "      <td>SP.POP.GROW</td>\n",
              "      <td>Data sources: United Nations World Population ...</td>\n",
              "      <td>NaN</td>\n",
              "    </tr>\n",
              "    <tr>\n",
              "      <th>2</th>\n",
              "      <td>AFG</td>\n",
              "      <td>SP.POP.GROW</td>\n",
              "      <td>Data sources: United Nations World Population ...</td>\n",
              "      <td>NaN</td>\n",
              "    </tr>\n",
              "    <tr>\n",
              "      <th>3</th>\n",
              "      <td>AFG</td>\n",
              "      <td>NY.GDP.PCAP.PP.CD</td>\n",
              "      <td>Estimates are based on regression.</td>\n",
              "      <td>NaN</td>\n",
              "    </tr>\n",
              "    <tr>\n",
              "      <th>4</th>\n",
              "      <td>AFG</td>\n",
              "      <td>SP.POP.TOTL</td>\n",
              "      <td>Data sources : United Nations World Population...</td>\n",
              "      <td>NaN</td>\n",
              "    </tr>\n",
              "  </tbody>\n",
              "</table>\n",
              "</div>"
            ],
            "text/plain": [
              "  CountryCode  ... Unnamed: 3\n",
              "0         ABW  ...        NaN\n",
              "1         ABW  ...        NaN\n",
              "2         AFG  ...        NaN\n",
              "3         AFG  ...        NaN\n",
              "4         AFG  ...        NaN\n",
              "\n",
              "[5 rows x 4 columns]"
            ]
          },
          "metadata": {
            "tags": []
          },
          "execution_count": 4
        }
      ]
    },
    {
      "cell_type": "code",
      "metadata": {
        "colab": {
          "base_uri": "https://localhost:8080/"
        },
        "id": "mJ92lfLug9MC",
        "outputId": "5ecb493e-ffbd-4a45-ae9c-dfd4a5d433e5"
      },
      "source": [
        "df_country_series.info()"
      ],
      "execution_count": 5,
      "outputs": [
        {
          "output_type": "stream",
          "text": [
            "<class 'pandas.core.frame.DataFrame'>\n",
            "RangeIndex: 613 entries, 0 to 612\n",
            "Data columns (total 4 columns):\n",
            " #   Column       Non-Null Count  Dtype  \n",
            "---  ------       --------------  -----  \n",
            " 0   CountryCode  613 non-null    object \n",
            " 1   SeriesCode   613 non-null    object \n",
            " 2   DESCRIPTION  613 non-null    object \n",
            " 3   Unnamed: 3   0 non-null      float64\n",
            "dtypes: float64(1), object(3)\n",
            "memory usage: 19.3+ KB\n"
          ],
          "name": "stdout"
        }
      ]
    },
    {
      "cell_type": "code",
      "metadata": {
        "id": "SRf7l6ebMv0o"
      },
      "source": [
        "df_country_series.rename(columns = {'CountryCode': 'Country Code', 'SeriesCode': 'Series Code'},inplace=True)\n",
        "df_country_series.drop('Unnamed: 3',axis=1, inplace=True)"
      ],
      "execution_count": 6,
      "outputs": []
    },
    {
      "cell_type": "code",
      "metadata": {
        "colab": {
          "base_uri": "https://localhost:8080/"
        },
        "id": "2vIaXf4P4Uyz",
        "outputId": "ebcf3ac1-2c9c-4971-fc06-582b2a6751b4"
      },
      "source": [
        "df_country_series['Country Code'].nunique()"
      ],
      "execution_count": 7,
      "outputs": [
        {
          "output_type": "execute_result",
          "data": {
            "text/plain": [
              "211"
            ]
          },
          "metadata": {
            "tags": []
          },
          "execution_count": 7
        }
      ]
    },
    {
      "cell_type": "code",
      "metadata": {
        "colab": {
          "base_uri": "https://localhost:8080/"
        },
        "id": "uQjhrX4g4j-W",
        "outputId": "bb0d1583-bbd0-4d06-e1fa-362cf9ea87a8"
      },
      "source": [
        "df_country_series['Series Code'].nunique()"
      ],
      "execution_count": 8,
      "outputs": [
        {
          "output_type": "execute_result",
          "data": {
            "text/plain": [
              "21"
            ]
          },
          "metadata": {
            "tags": []
          },
          "execution_count": 8
        }
      ]
    },
    {
      "cell_type": "code",
      "metadata": {
        "colab": {
          "base_uri": "https://localhost:8080/",
          "height": 450
        },
        "id": "P8KOus4o4N2z",
        "outputId": "dfbbf987-4f62-45f8-e6da-aa8f44bf51b3"
      },
      "source": [
        "pd.DataFrame(df_country_series.groupby('Country Code')['Series Code'].count().sort_values(ascending=False))"
      ],
      "execution_count": 9,
      "outputs": [
        {
          "output_type": "execute_result",
          "data": {
            "text/html": [
              "<div>\n",
              "<style scoped>\n",
              "    .dataframe tbody tr th:only-of-type {\n",
              "        vertical-align: middle;\n",
              "    }\n",
              "\n",
              "    .dataframe tbody tr th {\n",
              "        vertical-align: top;\n",
              "    }\n",
              "\n",
              "    .dataframe thead th {\n",
              "        text-align: right;\n",
              "    }\n",
              "</style>\n",
              "<table border=\"1\" class=\"dataframe\">\n",
              "  <thead>\n",
              "    <tr style=\"text-align: right;\">\n",
              "      <th></th>\n",
              "      <th>Series Code</th>\n",
              "    </tr>\n",
              "    <tr>\n",
              "      <th>Country Code</th>\n",
              "      <th></th>\n",
              "    </tr>\n",
              "  </thead>\n",
              "  <tbody>\n",
              "    <tr>\n",
              "      <th>GEO</th>\n",
              "      <td>18</td>\n",
              "    </tr>\n",
              "    <tr>\n",
              "      <th>MDA</th>\n",
              "      <td>18</td>\n",
              "    </tr>\n",
              "    <tr>\n",
              "      <th>MUS</th>\n",
              "      <td>12</td>\n",
              "    </tr>\n",
              "    <tr>\n",
              "      <th>TZA</th>\n",
              "      <td>12</td>\n",
              "    </tr>\n",
              "    <tr>\n",
              "      <th>MAR</th>\n",
              "      <td>12</td>\n",
              "    </tr>\n",
              "    <tr>\n",
              "      <th>...</th>\n",
              "      <td>...</td>\n",
              "    </tr>\n",
              "    <tr>\n",
              "      <th>MNE</th>\n",
              "      <td>2</td>\n",
              "    </tr>\n",
              "    <tr>\n",
              "      <th>MMR</th>\n",
              "      <td>2</td>\n",
              "    </tr>\n",
              "    <tr>\n",
              "      <th>MLT</th>\n",
              "      <td>2</td>\n",
              "    </tr>\n",
              "    <tr>\n",
              "      <th>MLI</th>\n",
              "      <td>2</td>\n",
              "    </tr>\n",
              "    <tr>\n",
              "      <th>ABW</th>\n",
              "      <td>2</td>\n",
              "    </tr>\n",
              "  </tbody>\n",
              "</table>\n",
              "<p>211 rows × 1 columns</p>\n",
              "</div>"
            ],
            "text/plain": [
              "              Series Code\n",
              "Country Code             \n",
              "GEO                    18\n",
              "MDA                    18\n",
              "MUS                    12\n",
              "TZA                    12\n",
              "MAR                    12\n",
              "...                   ...\n",
              "MNE                     2\n",
              "MMR                     2\n",
              "MLT                     2\n",
              "MLI                     2\n",
              "ABW                     2\n",
              "\n",
              "[211 rows x 1 columns]"
            ]
          },
          "metadata": {
            "tags": []
          },
          "execution_count": 9
        }
      ]
    },
    {
      "cell_type": "markdown",
      "metadata": {
        "id": "gYhIA3Wm4t4D"
      },
      "source": [
        "### Looks like multiple countries can have same series code. Let's explore df_series to get a better understanding."
      ]
    },
    {
      "cell_type": "code",
      "metadata": {
        "colab": {
          "base_uri": "https://localhost:8080/",
          "height": 550
        },
        "id": "ZGsURulMf1Vz",
        "outputId": "51b00669-1491-4cd4-8a3f-7a831bc49a65"
      },
      "source": [
        "df_series.head(4)"
      ],
      "execution_count": 10,
      "outputs": [
        {
          "output_type": "execute_result",
          "data": {
            "text/html": [
              "<div>\n",
              "<style scoped>\n",
              "    .dataframe tbody tr th:only-of-type {\n",
              "        vertical-align: middle;\n",
              "    }\n",
              "\n",
              "    .dataframe tbody tr th {\n",
              "        vertical-align: top;\n",
              "    }\n",
              "\n",
              "    .dataframe thead th {\n",
              "        text-align: right;\n",
              "    }\n",
              "</style>\n",
              "<table border=\"1\" class=\"dataframe\">\n",
              "  <thead>\n",
              "    <tr style=\"text-align: right;\">\n",
              "      <th></th>\n",
              "      <th>Series Code</th>\n",
              "      <th>Topic</th>\n",
              "      <th>Indicator Name</th>\n",
              "      <th>Short definition</th>\n",
              "      <th>Long definition</th>\n",
              "      <th>Unit of measure</th>\n",
              "      <th>Periodicity</th>\n",
              "      <th>Base Period</th>\n",
              "      <th>Other notes</th>\n",
              "      <th>Aggregation method</th>\n",
              "      <th>Limitations and exceptions</th>\n",
              "      <th>Notes from original source</th>\n",
              "      <th>General comments</th>\n",
              "      <th>Source</th>\n",
              "      <th>Statistical concept and methodology</th>\n",
              "      <th>Development relevance</th>\n",
              "      <th>Related source links</th>\n",
              "      <th>Other web links</th>\n",
              "      <th>Related indicators</th>\n",
              "      <th>License Type</th>\n",
              "      <th>Unnamed: 20</th>\n",
              "    </tr>\n",
              "  </thead>\n",
              "  <tbody>\n",
              "    <tr>\n",
              "      <th>0</th>\n",
              "      <td>BAR.NOED.1519.FE.ZS</td>\n",
              "      <td>Attainment</td>\n",
              "      <td>Barro-Lee: Percentage of female population age...</td>\n",
              "      <td>Percentage of female population age 15-19 with...</td>\n",
              "      <td>Percentage of female population age 15-19 with...</td>\n",
              "      <td>NaN</td>\n",
              "      <td>NaN</td>\n",
              "      <td>NaN</td>\n",
              "      <td>NaN</td>\n",
              "      <td>NaN</td>\n",
              "      <td>NaN</td>\n",
              "      <td>NaN</td>\n",
              "      <td>NaN</td>\n",
              "      <td>Robert J. Barro and Jong-Wha Lee: http://www.b...</td>\n",
              "      <td>NaN</td>\n",
              "      <td>NaN</td>\n",
              "      <td>NaN</td>\n",
              "      <td>NaN</td>\n",
              "      <td>NaN</td>\n",
              "      <td>NaN</td>\n",
              "      <td>NaN</td>\n",
              "    </tr>\n",
              "    <tr>\n",
              "      <th>1</th>\n",
              "      <td>BAR.NOED.1519.ZS</td>\n",
              "      <td>Attainment</td>\n",
              "      <td>Barro-Lee: Percentage of population age 15-19 ...</td>\n",
              "      <td>Percentage of population age 15-19 with no edu...</td>\n",
              "      <td>Percentage of population age 15-19 with no edu...</td>\n",
              "      <td>NaN</td>\n",
              "      <td>NaN</td>\n",
              "      <td>NaN</td>\n",
              "      <td>NaN</td>\n",
              "      <td>NaN</td>\n",
              "      <td>NaN</td>\n",
              "      <td>NaN</td>\n",
              "      <td>NaN</td>\n",
              "      <td>Robert J. Barro and Jong-Wha Lee: http://www.b...</td>\n",
              "      <td>NaN</td>\n",
              "      <td>NaN</td>\n",
              "      <td>NaN</td>\n",
              "      <td>NaN</td>\n",
              "      <td>NaN</td>\n",
              "      <td>NaN</td>\n",
              "      <td>NaN</td>\n",
              "    </tr>\n",
              "    <tr>\n",
              "      <th>2</th>\n",
              "      <td>BAR.NOED.15UP.FE.ZS</td>\n",
              "      <td>Attainment</td>\n",
              "      <td>Barro-Lee: Percentage of female population age...</td>\n",
              "      <td>Percentage of female population age 15+ with n...</td>\n",
              "      <td>Percentage of female population age 15+ with n...</td>\n",
              "      <td>NaN</td>\n",
              "      <td>NaN</td>\n",
              "      <td>NaN</td>\n",
              "      <td>NaN</td>\n",
              "      <td>NaN</td>\n",
              "      <td>NaN</td>\n",
              "      <td>NaN</td>\n",
              "      <td>NaN</td>\n",
              "      <td>Robert J. Barro and Jong-Wha Lee: http://www.b...</td>\n",
              "      <td>NaN</td>\n",
              "      <td>NaN</td>\n",
              "      <td>NaN</td>\n",
              "      <td>NaN</td>\n",
              "      <td>NaN</td>\n",
              "      <td>NaN</td>\n",
              "      <td>NaN</td>\n",
              "    </tr>\n",
              "    <tr>\n",
              "      <th>3</th>\n",
              "      <td>BAR.NOED.15UP.ZS</td>\n",
              "      <td>Attainment</td>\n",
              "      <td>Barro-Lee: Percentage of population age 15+ wi...</td>\n",
              "      <td>Percentage of population age 15+ with no educa...</td>\n",
              "      <td>Percentage of population age 15+ with no educa...</td>\n",
              "      <td>NaN</td>\n",
              "      <td>NaN</td>\n",
              "      <td>NaN</td>\n",
              "      <td>NaN</td>\n",
              "      <td>NaN</td>\n",
              "      <td>NaN</td>\n",
              "      <td>NaN</td>\n",
              "      <td>NaN</td>\n",
              "      <td>Robert J. Barro and Jong-Wha Lee: http://www.b...</td>\n",
              "      <td>NaN</td>\n",
              "      <td>NaN</td>\n",
              "      <td>NaN</td>\n",
              "      <td>NaN</td>\n",
              "      <td>NaN</td>\n",
              "      <td>NaN</td>\n",
              "      <td>NaN</td>\n",
              "    </tr>\n",
              "  </tbody>\n",
              "</table>\n",
              "</div>"
            ],
            "text/plain": [
              "           Series Code       Topic  ... License Type Unnamed: 20\n",
              "0  BAR.NOED.1519.FE.ZS  Attainment  ...          NaN         NaN\n",
              "1     BAR.NOED.1519.ZS  Attainment  ...          NaN         NaN\n",
              "2  BAR.NOED.15UP.FE.ZS  Attainment  ...          NaN         NaN\n",
              "3     BAR.NOED.15UP.ZS  Attainment  ...          NaN         NaN\n",
              "\n",
              "[4 rows x 21 columns]"
            ]
          },
          "metadata": {
            "tags": []
          },
          "execution_count": 10
        }
      ]
    },
    {
      "cell_type": "code",
      "metadata": {
        "colab": {
          "base_uri": "https://localhost:8080/"
        },
        "id": "uOgydJhc5EX0",
        "outputId": "c4b53c74-487b-4861-d478-887c69a470d6"
      },
      "source": [
        "df_series['Series Code'].nunique()"
      ],
      "execution_count": 11,
      "outputs": [
        {
          "output_type": "execute_result",
          "data": {
            "text/plain": [
              "3665"
            ]
          },
          "metadata": {
            "tags": []
          },
          "execution_count": 11
        }
      ]
    },
    {
      "cell_type": "markdown",
      "metadata": {
        "id": "Eqa3qCxL5RDd"
      },
      "source": [
        "### Look like a series code refers to a particular indicator."
      ]
    },
    {
      "cell_type": "code",
      "metadata": {
        "colab": {
          "base_uri": "https://localhost:8080/"
        },
        "id": "IkBdHeFu57HO",
        "outputId": "72010db2-3867-4da8-bba5-756c4c34ce59"
      },
      "source": [
        "df_series.info()"
      ],
      "execution_count": 12,
      "outputs": [
        {
          "output_type": "stream",
          "text": [
            "<class 'pandas.core.frame.DataFrame'>\n",
            "RangeIndex: 3665 entries, 0 to 3664\n",
            "Data columns (total 21 columns):\n",
            " #   Column                               Non-Null Count  Dtype  \n",
            "---  ------                               --------------  -----  \n",
            " 0   Series Code                          3665 non-null   object \n",
            " 1   Topic                                3665 non-null   object \n",
            " 2   Indicator Name                       3665 non-null   object \n",
            " 3   Short definition                     2156 non-null   object \n",
            " 4   Long definition                      3665 non-null   object \n",
            " 5   Unit of measure                      0 non-null      float64\n",
            " 6   Periodicity                          99 non-null     object \n",
            " 7   Base Period                          314 non-null    object \n",
            " 8   Other notes                          552 non-null    object \n",
            " 9   Aggregation method                   47 non-null     object \n",
            " 10  Limitations and exceptions           14 non-null     object \n",
            " 11  Notes from original source           0 non-null      float64\n",
            " 12  General comments                     14 non-null     object \n",
            " 13  Source                               3665 non-null   object \n",
            " 14  Statistical concept and methodology  23 non-null     object \n",
            " 15  Development relevance                3 non-null      object \n",
            " 16  Related source links                 215 non-null    object \n",
            " 17  Other web links                      0 non-null      float64\n",
            " 18  Related indicators                   0 non-null      float64\n",
            " 19  License Type                         0 non-null      float64\n",
            " 20  Unnamed: 20                          0 non-null      float64\n",
            "dtypes: float64(6), object(15)\n",
            "memory usage: 601.4+ KB\n"
          ],
          "name": "stdout"
        }
      ]
    },
    {
      "cell_type": "code",
      "metadata": {
        "colab": {
          "base_uri": "https://localhost:8080/",
          "height": 666
        },
        "id": "OjW_fOeAtfpT",
        "outputId": "6b8ffd3a-39e2-4708-aecd-c5a63c5fd8d7"
      },
      "source": [
        "df_data.head()"
      ],
      "execution_count": 13,
      "outputs": [
        {
          "output_type": "execute_result",
          "data": {
            "text/html": [
              "<div>\n",
              "<style scoped>\n",
              "    .dataframe tbody tr th:only-of-type {\n",
              "        vertical-align: middle;\n",
              "    }\n",
              "\n",
              "    .dataframe tbody tr th {\n",
              "        vertical-align: top;\n",
              "    }\n",
              "\n",
              "    .dataframe thead th {\n",
              "        text-align: right;\n",
              "    }\n",
              "</style>\n",
              "<table border=\"1\" class=\"dataframe\">\n",
              "  <thead>\n",
              "    <tr style=\"text-align: right;\">\n",
              "      <th></th>\n",
              "      <th>Country Name</th>\n",
              "      <th>Country Code</th>\n",
              "      <th>Indicator Name</th>\n",
              "      <th>Indicator Code</th>\n",
              "      <th>1970</th>\n",
              "      <th>1971</th>\n",
              "      <th>1972</th>\n",
              "      <th>1973</th>\n",
              "      <th>1974</th>\n",
              "      <th>1975</th>\n",
              "      <th>1976</th>\n",
              "      <th>1977</th>\n",
              "      <th>1978</th>\n",
              "      <th>1979</th>\n",
              "      <th>1980</th>\n",
              "      <th>1981</th>\n",
              "      <th>1982</th>\n",
              "      <th>1983</th>\n",
              "      <th>1984</th>\n",
              "      <th>1985</th>\n",
              "      <th>1986</th>\n",
              "      <th>1987</th>\n",
              "      <th>1988</th>\n",
              "      <th>1989</th>\n",
              "      <th>1990</th>\n",
              "      <th>1991</th>\n",
              "      <th>1992</th>\n",
              "      <th>1993</th>\n",
              "      <th>1994</th>\n",
              "      <th>1995</th>\n",
              "      <th>1996</th>\n",
              "      <th>1997</th>\n",
              "      <th>1998</th>\n",
              "      <th>1999</th>\n",
              "      <th>2000</th>\n",
              "      <th>2001</th>\n",
              "      <th>2002</th>\n",
              "      <th>2003</th>\n",
              "      <th>2004</th>\n",
              "      <th>2005</th>\n",
              "      <th>2006</th>\n",
              "      <th>2007</th>\n",
              "      <th>2008</th>\n",
              "      <th>2009</th>\n",
              "      <th>2010</th>\n",
              "      <th>2011</th>\n",
              "      <th>2012</th>\n",
              "      <th>2013</th>\n",
              "      <th>2014</th>\n",
              "      <th>2015</th>\n",
              "      <th>2016</th>\n",
              "      <th>2017</th>\n",
              "      <th>2020</th>\n",
              "      <th>2025</th>\n",
              "      <th>2030</th>\n",
              "      <th>2035</th>\n",
              "      <th>2040</th>\n",
              "      <th>2045</th>\n",
              "      <th>2050</th>\n",
              "      <th>2055</th>\n",
              "      <th>2060</th>\n",
              "      <th>2065</th>\n",
              "      <th>2070</th>\n",
              "      <th>2075</th>\n",
              "      <th>2080</th>\n",
              "      <th>2085</th>\n",
              "      <th>2090</th>\n",
              "      <th>2095</th>\n",
              "      <th>2100</th>\n",
              "      <th>Unnamed: 69</th>\n",
              "    </tr>\n",
              "  </thead>\n",
              "  <tbody>\n",
              "    <tr>\n",
              "      <th>0</th>\n",
              "      <td>Arab World</td>\n",
              "      <td>ARB</td>\n",
              "      <td>Adjusted net enrolment rate, lower secondary, ...</td>\n",
              "      <td>UIS.NERA.2</td>\n",
              "      <td>NaN</td>\n",
              "      <td>NaN</td>\n",
              "      <td>NaN</td>\n",
              "      <td>NaN</td>\n",
              "      <td>NaN</td>\n",
              "      <td>NaN</td>\n",
              "      <td>NaN</td>\n",
              "      <td>NaN</td>\n",
              "      <td>NaN</td>\n",
              "      <td>NaN</td>\n",
              "      <td>NaN</td>\n",
              "      <td>NaN</td>\n",
              "      <td>NaN</td>\n",
              "      <td>NaN</td>\n",
              "      <td>NaN</td>\n",
              "      <td>NaN</td>\n",
              "      <td>NaN</td>\n",
              "      <td>NaN</td>\n",
              "      <td>NaN</td>\n",
              "      <td>NaN</td>\n",
              "      <td>NaN</td>\n",
              "      <td>NaN</td>\n",
              "      <td>NaN</td>\n",
              "      <td>NaN</td>\n",
              "      <td>NaN</td>\n",
              "      <td>NaN</td>\n",
              "      <td>NaN</td>\n",
              "      <td>NaN</td>\n",
              "      <td>NaN</td>\n",
              "      <td>NaN</td>\n",
              "      <td>NaN</td>\n",
              "      <td>NaN</td>\n",
              "      <td>NaN</td>\n",
              "      <td>NaN</td>\n",
              "      <td>NaN</td>\n",
              "      <td>NaN</td>\n",
              "      <td>NaN</td>\n",
              "      <td>NaN</td>\n",
              "      <td>NaN</td>\n",
              "      <td>NaN</td>\n",
              "      <td>NaN</td>\n",
              "      <td>NaN</td>\n",
              "      <td>NaN</td>\n",
              "      <td>NaN</td>\n",
              "      <td>NaN</td>\n",
              "      <td>NaN</td>\n",
              "      <td>NaN</td>\n",
              "      <td>NaN</td>\n",
              "      <td>NaN</td>\n",
              "      <td>NaN</td>\n",
              "      <td>NaN</td>\n",
              "      <td>NaN</td>\n",
              "      <td>NaN</td>\n",
              "      <td>NaN</td>\n",
              "      <td>NaN</td>\n",
              "      <td>NaN</td>\n",
              "      <td>NaN</td>\n",
              "      <td>NaN</td>\n",
              "      <td>NaN</td>\n",
              "      <td>NaN</td>\n",
              "      <td>NaN</td>\n",
              "      <td>NaN</td>\n",
              "      <td>NaN</td>\n",
              "      <td>NaN</td>\n",
              "      <td>NaN</td>\n",
              "      <td>NaN</td>\n",
              "    </tr>\n",
              "    <tr>\n",
              "      <th>1</th>\n",
              "      <td>Arab World</td>\n",
              "      <td>ARB</td>\n",
              "      <td>Adjusted net enrolment rate, lower secondary, ...</td>\n",
              "      <td>UIS.NERA.2.F</td>\n",
              "      <td>NaN</td>\n",
              "      <td>NaN</td>\n",
              "      <td>NaN</td>\n",
              "      <td>NaN</td>\n",
              "      <td>NaN</td>\n",
              "      <td>NaN</td>\n",
              "      <td>NaN</td>\n",
              "      <td>NaN</td>\n",
              "      <td>NaN</td>\n",
              "      <td>NaN</td>\n",
              "      <td>NaN</td>\n",
              "      <td>NaN</td>\n",
              "      <td>NaN</td>\n",
              "      <td>NaN</td>\n",
              "      <td>NaN</td>\n",
              "      <td>NaN</td>\n",
              "      <td>NaN</td>\n",
              "      <td>NaN</td>\n",
              "      <td>NaN</td>\n",
              "      <td>NaN</td>\n",
              "      <td>NaN</td>\n",
              "      <td>NaN</td>\n",
              "      <td>NaN</td>\n",
              "      <td>NaN</td>\n",
              "      <td>NaN</td>\n",
              "      <td>NaN</td>\n",
              "      <td>NaN</td>\n",
              "      <td>NaN</td>\n",
              "      <td>NaN</td>\n",
              "      <td>NaN</td>\n",
              "      <td>NaN</td>\n",
              "      <td>NaN</td>\n",
              "      <td>NaN</td>\n",
              "      <td>NaN</td>\n",
              "      <td>NaN</td>\n",
              "      <td>NaN</td>\n",
              "      <td>NaN</td>\n",
              "      <td>NaN</td>\n",
              "      <td>NaN</td>\n",
              "      <td>NaN</td>\n",
              "      <td>NaN</td>\n",
              "      <td>NaN</td>\n",
              "      <td>NaN</td>\n",
              "      <td>NaN</td>\n",
              "      <td>NaN</td>\n",
              "      <td>NaN</td>\n",
              "      <td>NaN</td>\n",
              "      <td>NaN</td>\n",
              "      <td>NaN</td>\n",
              "      <td>NaN</td>\n",
              "      <td>NaN</td>\n",
              "      <td>NaN</td>\n",
              "      <td>NaN</td>\n",
              "      <td>NaN</td>\n",
              "      <td>NaN</td>\n",
              "      <td>NaN</td>\n",
              "      <td>NaN</td>\n",
              "      <td>NaN</td>\n",
              "      <td>NaN</td>\n",
              "      <td>NaN</td>\n",
              "      <td>NaN</td>\n",
              "      <td>NaN</td>\n",
              "      <td>NaN</td>\n",
              "      <td>NaN</td>\n",
              "      <td>NaN</td>\n",
              "      <td>NaN</td>\n",
              "    </tr>\n",
              "    <tr>\n",
              "      <th>2</th>\n",
              "      <td>Arab World</td>\n",
              "      <td>ARB</td>\n",
              "      <td>Adjusted net enrolment rate, lower secondary, ...</td>\n",
              "      <td>UIS.NERA.2.GPI</td>\n",
              "      <td>NaN</td>\n",
              "      <td>NaN</td>\n",
              "      <td>NaN</td>\n",
              "      <td>NaN</td>\n",
              "      <td>NaN</td>\n",
              "      <td>NaN</td>\n",
              "      <td>NaN</td>\n",
              "      <td>NaN</td>\n",
              "      <td>NaN</td>\n",
              "      <td>NaN</td>\n",
              "      <td>NaN</td>\n",
              "      <td>NaN</td>\n",
              "      <td>NaN</td>\n",
              "      <td>NaN</td>\n",
              "      <td>NaN</td>\n",
              "      <td>NaN</td>\n",
              "      <td>NaN</td>\n",
              "      <td>NaN</td>\n",
              "      <td>NaN</td>\n",
              "      <td>NaN</td>\n",
              "      <td>NaN</td>\n",
              "      <td>NaN</td>\n",
              "      <td>NaN</td>\n",
              "      <td>NaN</td>\n",
              "      <td>NaN</td>\n",
              "      <td>NaN</td>\n",
              "      <td>NaN</td>\n",
              "      <td>NaN</td>\n",
              "      <td>NaN</td>\n",
              "      <td>NaN</td>\n",
              "      <td>NaN</td>\n",
              "      <td>NaN</td>\n",
              "      <td>NaN</td>\n",
              "      <td>NaN</td>\n",
              "      <td>NaN</td>\n",
              "      <td>NaN</td>\n",
              "      <td>NaN</td>\n",
              "      <td>NaN</td>\n",
              "      <td>NaN</td>\n",
              "      <td>NaN</td>\n",
              "      <td>NaN</td>\n",
              "      <td>NaN</td>\n",
              "      <td>NaN</td>\n",
              "      <td>NaN</td>\n",
              "      <td>NaN</td>\n",
              "      <td>NaN</td>\n",
              "      <td>NaN</td>\n",
              "      <td>NaN</td>\n",
              "      <td>NaN</td>\n",
              "      <td>NaN</td>\n",
              "      <td>NaN</td>\n",
              "      <td>NaN</td>\n",
              "      <td>NaN</td>\n",
              "      <td>NaN</td>\n",
              "      <td>NaN</td>\n",
              "      <td>NaN</td>\n",
              "      <td>NaN</td>\n",
              "      <td>NaN</td>\n",
              "      <td>NaN</td>\n",
              "      <td>NaN</td>\n",
              "      <td>NaN</td>\n",
              "      <td>NaN</td>\n",
              "      <td>NaN</td>\n",
              "      <td>NaN</td>\n",
              "      <td>NaN</td>\n",
              "      <td>NaN</td>\n",
              "    </tr>\n",
              "    <tr>\n",
              "      <th>3</th>\n",
              "      <td>Arab World</td>\n",
              "      <td>ARB</td>\n",
              "      <td>Adjusted net enrolment rate, lower secondary, ...</td>\n",
              "      <td>UIS.NERA.2.M</td>\n",
              "      <td>NaN</td>\n",
              "      <td>NaN</td>\n",
              "      <td>NaN</td>\n",
              "      <td>NaN</td>\n",
              "      <td>NaN</td>\n",
              "      <td>NaN</td>\n",
              "      <td>NaN</td>\n",
              "      <td>NaN</td>\n",
              "      <td>NaN</td>\n",
              "      <td>NaN</td>\n",
              "      <td>NaN</td>\n",
              "      <td>NaN</td>\n",
              "      <td>NaN</td>\n",
              "      <td>NaN</td>\n",
              "      <td>NaN</td>\n",
              "      <td>NaN</td>\n",
              "      <td>NaN</td>\n",
              "      <td>NaN</td>\n",
              "      <td>NaN</td>\n",
              "      <td>NaN</td>\n",
              "      <td>NaN</td>\n",
              "      <td>NaN</td>\n",
              "      <td>NaN</td>\n",
              "      <td>NaN</td>\n",
              "      <td>NaN</td>\n",
              "      <td>NaN</td>\n",
              "      <td>NaN</td>\n",
              "      <td>NaN</td>\n",
              "      <td>NaN</td>\n",
              "      <td>NaN</td>\n",
              "      <td>NaN</td>\n",
              "      <td>NaN</td>\n",
              "      <td>NaN</td>\n",
              "      <td>NaN</td>\n",
              "      <td>NaN</td>\n",
              "      <td>NaN</td>\n",
              "      <td>NaN</td>\n",
              "      <td>NaN</td>\n",
              "      <td>NaN</td>\n",
              "      <td>NaN</td>\n",
              "      <td>NaN</td>\n",
              "      <td>NaN</td>\n",
              "      <td>NaN</td>\n",
              "      <td>NaN</td>\n",
              "      <td>NaN</td>\n",
              "      <td>NaN</td>\n",
              "      <td>NaN</td>\n",
              "      <td>NaN</td>\n",
              "      <td>NaN</td>\n",
              "      <td>NaN</td>\n",
              "      <td>NaN</td>\n",
              "      <td>NaN</td>\n",
              "      <td>NaN</td>\n",
              "      <td>NaN</td>\n",
              "      <td>NaN</td>\n",
              "      <td>NaN</td>\n",
              "      <td>NaN</td>\n",
              "      <td>NaN</td>\n",
              "      <td>NaN</td>\n",
              "      <td>NaN</td>\n",
              "      <td>NaN</td>\n",
              "      <td>NaN</td>\n",
              "      <td>NaN</td>\n",
              "      <td>NaN</td>\n",
              "      <td>NaN</td>\n",
              "      <td>NaN</td>\n",
              "    </tr>\n",
              "    <tr>\n",
              "      <th>4</th>\n",
              "      <td>Arab World</td>\n",
              "      <td>ARB</td>\n",
              "      <td>Adjusted net enrolment rate, primary, both sex...</td>\n",
              "      <td>SE.PRM.TENR</td>\n",
              "      <td>54.822121</td>\n",
              "      <td>54.894138</td>\n",
              "      <td>56.209438</td>\n",
              "      <td>57.267109</td>\n",
              "      <td>57.991138</td>\n",
              "      <td>59.36554</td>\n",
              "      <td>60.999962</td>\n",
              "      <td>61.92268</td>\n",
              "      <td>62.69342</td>\n",
              "      <td>64.383186</td>\n",
              "      <td>65.617767</td>\n",
              "      <td>66.085152</td>\n",
              "      <td>66.608139</td>\n",
              "      <td>67.290451</td>\n",
              "      <td>68.510094</td>\n",
              "      <td>69.033211</td>\n",
              "      <td>69.944908</td>\n",
              "      <td>71.04187</td>\n",
              "      <td>71.693779</td>\n",
              "      <td>71.699097</td>\n",
              "      <td>71.995819</td>\n",
              "      <td>72.602837</td>\n",
              "      <td>70.032722</td>\n",
              "      <td>70.464821</td>\n",
              "      <td>72.645683</td>\n",
              "      <td>71.81176</td>\n",
              "      <td>73.903511</td>\n",
              "      <td>74.425201</td>\n",
              "      <td>75.110817</td>\n",
              "      <td>76.254318</td>\n",
              "      <td>77.245682</td>\n",
              "      <td>78.800522</td>\n",
              "      <td>80.051399</td>\n",
              "      <td>80.805389</td>\n",
              "      <td>81.607063</td>\n",
              "      <td>82.489487</td>\n",
              "      <td>82.685509</td>\n",
              "      <td>83.280342</td>\n",
              "      <td>84.011871</td>\n",
              "      <td>84.195961</td>\n",
              "      <td>85.211998</td>\n",
              "      <td>85.24514</td>\n",
              "      <td>86.101669</td>\n",
              "      <td>85.51194</td>\n",
              "      <td>85.320152</td>\n",
              "      <td>NaN</td>\n",
              "      <td>NaN</td>\n",
              "      <td>NaN</td>\n",
              "      <td>NaN</td>\n",
              "      <td>NaN</td>\n",
              "      <td>NaN</td>\n",
              "      <td>NaN</td>\n",
              "      <td>NaN</td>\n",
              "      <td>NaN</td>\n",
              "      <td>NaN</td>\n",
              "      <td>NaN</td>\n",
              "      <td>NaN</td>\n",
              "      <td>NaN</td>\n",
              "      <td>NaN</td>\n",
              "      <td>NaN</td>\n",
              "      <td>NaN</td>\n",
              "      <td>NaN</td>\n",
              "      <td>NaN</td>\n",
              "      <td>NaN</td>\n",
              "      <td>NaN</td>\n",
              "      <td>NaN</td>\n",
              "    </tr>\n",
              "  </tbody>\n",
              "</table>\n",
              "</div>"
            ],
            "text/plain": [
              "  Country Name Country Code  ... 2100 Unnamed: 69\n",
              "0   Arab World          ARB  ...  NaN         NaN\n",
              "1   Arab World          ARB  ...  NaN         NaN\n",
              "2   Arab World          ARB  ...  NaN         NaN\n",
              "3   Arab World          ARB  ...  NaN         NaN\n",
              "4   Arab World          ARB  ...  NaN         NaN\n",
              "\n",
              "[5 rows x 70 columns]"
            ]
          },
          "metadata": {
            "tags": []
          },
          "execution_count": 13
        }
      ]
    },
    {
      "cell_type": "code",
      "metadata": {
        "colab": {
          "base_uri": "https://localhost:8080/"
        },
        "id": "8DEIm6Ug7QHf",
        "outputId": "e0083981-fa0d-415a-ea81-678ae8e6ae1b"
      },
      "source": [
        "df_data.info()"
      ],
      "execution_count": 14,
      "outputs": [
        {
          "output_type": "stream",
          "text": [
            "<class 'pandas.core.frame.DataFrame'>\n",
            "RangeIndex: 886930 entries, 0 to 886929\n",
            "Data columns (total 70 columns):\n",
            " #   Column          Non-Null Count   Dtype  \n",
            "---  ------          --------------   -----  \n",
            " 0   Country Name    886930 non-null  object \n",
            " 1   Country Code    886930 non-null  object \n",
            " 2   Indicator Name  886930 non-null  object \n",
            " 3   Indicator Code  886930 non-null  object \n",
            " 4   1970            72288 non-null   float64\n",
            " 5   1971            35537 non-null   float64\n",
            " 6   1972            35619 non-null   float64\n",
            " 7   1973            35545 non-null   float64\n",
            " 8   1974            35730 non-null   float64\n",
            " 9   1975            87306 non-null   float64\n",
            " 10  1976            37483 non-null   float64\n",
            " 11  1977            37574 non-null   float64\n",
            " 12  1978            37576 non-null   float64\n",
            " 13  1979            36809 non-null   float64\n",
            " 14  1980            89122 non-null   float64\n",
            " 15  1981            38777 non-null   float64\n",
            " 16  1982            37511 non-null   float64\n",
            " 17  1983            38460 non-null   float64\n",
            " 18  1984            38606 non-null   float64\n",
            " 19  1985            90296 non-null   float64\n",
            " 20  1986            39372 non-null   float64\n",
            " 21  1987            38641 non-null   float64\n",
            " 22  1988            38552 non-null   float64\n",
            " 23  1989            37540 non-null   float64\n",
            " 24  1990            124405 non-null  float64\n",
            " 25  1991            74437 non-null   float64\n",
            " 26  1992            75543 non-null   float64\n",
            " 27  1993            75793 non-null   float64\n",
            " 28  1994            77462 non-null   float64\n",
            " 29  1995            131361 non-null  float64\n",
            " 30  1996            76807 non-null   float64\n",
            " 31  1997            73453 non-null   float64\n",
            " 32  1998            84914 non-null   float64\n",
            " 33  1999            118839 non-null  float64\n",
            " 34  2000            176676 non-null  float64\n",
            " 35  2001            123509 non-null  float64\n",
            " 36  2002            124205 non-null  float64\n",
            " 37  2003            130363 non-null  float64\n",
            " 38  2004            128814 non-null  float64\n",
            " 39  2005            184108 non-null  float64\n",
            " 40  2006            140312 non-null  float64\n",
            " 41  2007            137272 non-null  float64\n",
            " 42  2008            134387 non-null  float64\n",
            " 43  2009            142108 non-null  float64\n",
            " 44  2010            242442 non-null  float64\n",
            " 45  2011            146012 non-null  float64\n",
            " 46  2012            147264 non-null  float64\n",
            " 47  2013            137509 non-null  float64\n",
            " 48  2014            113789 non-null  float64\n",
            " 49  2015            131058 non-null  float64\n",
            " 50  2016            16460 non-null   float64\n",
            " 51  2017            143 non-null     float64\n",
            " 52  2020            51436 non-null   float64\n",
            " 53  2025            51436 non-null   float64\n",
            " 54  2030            51436 non-null   float64\n",
            " 55  2035            51436 non-null   float64\n",
            " 56  2040            51436 non-null   float64\n",
            " 57  2045            51436 non-null   float64\n",
            " 58  2050            51436 non-null   float64\n",
            " 59  2055            51436 non-null   float64\n",
            " 60  2060            51436 non-null   float64\n",
            " 61  2065            51436 non-null   float64\n",
            " 62  2070            51436 non-null   float64\n",
            " 63  2075            51436 non-null   float64\n",
            " 64  2080            51436 non-null   float64\n",
            " 65  2085            51436 non-null   float64\n",
            " 66  2090            51436 non-null   float64\n",
            " 67  2095            51436 non-null   float64\n",
            " 68  2100            51436 non-null   float64\n",
            " 69  Unnamed: 69     0 non-null       float64\n",
            "dtypes: float64(66), object(4)\n",
            "memory usage: 473.7+ MB\n"
          ],
          "name": "stdout"
        }
      ]
    },
    {
      "cell_type": "code",
      "metadata": {
        "colab": {
          "base_uri": "https://localhost:8080/",
          "height": 35
        },
        "id": "H_3QfgXE6t0g",
        "outputId": "8daee060-6c37-4b7f-97b7-62b4ad41fa70"
      },
      "source": [
        "df_data.loc[0,'Indicator Code']"
      ],
      "execution_count": 15,
      "outputs": [
        {
          "output_type": "execute_result",
          "data": {
            "application/vnd.google.colaboratory.intrinsic+json": {
              "type": "string"
            },
            "text/plain": [
              "'UIS.NERA.2'"
            ]
          },
          "metadata": {
            "tags": []
          },
          "execution_count": 15
        }
      ]
    },
    {
      "cell_type": "code",
      "metadata": {
        "colab": {
          "base_uri": "https://localhost:8080/",
          "height": 236
        },
        "id": "_EhoV9zh6yeg",
        "outputId": "bb86ceb7-618d-4a3f-eb8a-e6ea5529f798"
      },
      "source": [
        "df_series[df_series['Series Code'] == df_data.loc[0,'Indicator Code']]"
      ],
      "execution_count": 16,
      "outputs": [
        {
          "output_type": "execute_result",
          "data": {
            "text/html": [
              "<div>\n",
              "<style scoped>\n",
              "    .dataframe tbody tr th:only-of-type {\n",
              "        vertical-align: middle;\n",
              "    }\n",
              "\n",
              "    .dataframe tbody tr th {\n",
              "        vertical-align: top;\n",
              "    }\n",
              "\n",
              "    .dataframe thead th {\n",
              "        text-align: right;\n",
              "    }\n",
              "</style>\n",
              "<table border=\"1\" class=\"dataframe\">\n",
              "  <thead>\n",
              "    <tr style=\"text-align: right;\">\n",
              "      <th></th>\n",
              "      <th>Series Code</th>\n",
              "      <th>Topic</th>\n",
              "      <th>Indicator Name</th>\n",
              "      <th>Short definition</th>\n",
              "      <th>Long definition</th>\n",
              "      <th>Unit of measure</th>\n",
              "      <th>Periodicity</th>\n",
              "      <th>Base Period</th>\n",
              "      <th>Other notes</th>\n",
              "      <th>Aggregation method</th>\n",
              "      <th>Limitations and exceptions</th>\n",
              "      <th>Notes from original source</th>\n",
              "      <th>General comments</th>\n",
              "      <th>Source</th>\n",
              "      <th>Statistical concept and methodology</th>\n",
              "      <th>Development relevance</th>\n",
              "      <th>Related source links</th>\n",
              "      <th>Other web links</th>\n",
              "      <th>Related indicators</th>\n",
              "      <th>License Type</th>\n",
              "      <th>Unnamed: 20</th>\n",
              "    </tr>\n",
              "  </thead>\n",
              "  <tbody>\n",
              "    <tr>\n",
              "      <th>3222</th>\n",
              "      <td>UIS.NERA.2</td>\n",
              "      <td>Secondary</td>\n",
              "      <td>Adjusted net enrolment rate, lower secondary, ...</td>\n",
              "      <td>NaN</td>\n",
              "      <td>Total number of students of the official lower...</td>\n",
              "      <td>NaN</td>\n",
              "      <td>NaN</td>\n",
              "      <td>NaN</td>\n",
              "      <td>NaN</td>\n",
              "      <td>NaN</td>\n",
              "      <td>NaN</td>\n",
              "      <td>NaN</td>\n",
              "      <td>NaN</td>\n",
              "      <td>UNESCO Institute for Statistics</td>\n",
              "      <td>NaN</td>\n",
              "      <td>NaN</td>\n",
              "      <td>NaN</td>\n",
              "      <td>NaN</td>\n",
              "      <td>NaN</td>\n",
              "      <td>NaN</td>\n",
              "      <td>NaN</td>\n",
              "    </tr>\n",
              "  </tbody>\n",
              "</table>\n",
              "</div>"
            ],
            "text/plain": [
              "     Series Code      Topic  ... License Type Unnamed: 20\n",
              "3222  UIS.NERA.2  Secondary  ...          NaN         NaN\n",
              "\n",
              "[1 rows x 21 columns]"
            ]
          },
          "metadata": {
            "tags": []
          },
          "execution_count": 16
        }
      ]
    },
    {
      "cell_type": "code",
      "metadata": {
        "colab": {
          "base_uri": "https://localhost:8080/",
          "height": 236
        },
        "id": "PMozMDEW7LA7",
        "outputId": "502290f9-b029-4ac2-91bb-70374680efde"
      },
      "source": [
        "df_series[df_series['Series Code'] == df_data.loc[56789,'Indicator Code']]"
      ],
      "execution_count": 17,
      "outputs": [
        {
          "output_type": "execute_result",
          "data": {
            "text/html": [
              "<div>\n",
              "<style scoped>\n",
              "    .dataframe tbody tr th:only-of-type {\n",
              "        vertical-align: middle;\n",
              "    }\n",
              "\n",
              "    .dataframe tbody tr th {\n",
              "        vertical-align: top;\n",
              "    }\n",
              "\n",
              "    .dataframe thead th {\n",
              "        text-align: right;\n",
              "    }\n",
              "</style>\n",
              "<table border=\"1\" class=\"dataframe\">\n",
              "  <thead>\n",
              "    <tr style=\"text-align: right;\">\n",
              "      <th></th>\n",
              "      <th>Series Code</th>\n",
              "      <th>Topic</th>\n",
              "      <th>Indicator Name</th>\n",
              "      <th>Short definition</th>\n",
              "      <th>Long definition</th>\n",
              "      <th>Unit of measure</th>\n",
              "      <th>Periodicity</th>\n",
              "      <th>Base Period</th>\n",
              "      <th>Other notes</th>\n",
              "      <th>Aggregation method</th>\n",
              "      <th>Limitations and exceptions</th>\n",
              "      <th>Notes from original source</th>\n",
              "      <th>General comments</th>\n",
              "      <th>Source</th>\n",
              "      <th>Statistical concept and methodology</th>\n",
              "      <th>Development relevance</th>\n",
              "      <th>Related source links</th>\n",
              "      <th>Other web links</th>\n",
              "      <th>Related indicators</th>\n",
              "      <th>License Type</th>\n",
              "      <th>Unnamed: 20</th>\n",
              "    </tr>\n",
              "  </thead>\n",
              "  <tbody>\n",
              "    <tr>\n",
              "      <th>1157</th>\n",
              "      <td>LO.PASEC.FRE5.MA</td>\n",
              "      <td>Learning Outcomes</td>\n",
              "      <td>PASEC: Mean performance on the French language...</td>\n",
              "      <td>Mean percentage correct for 5th male grade stu...</td>\n",
              "      <td>Mean percentage correct for 5th male grade stu...</td>\n",
              "      <td>NaN</td>\n",
              "      <td>NaN</td>\n",
              "      <td>NaN</td>\n",
              "      <td>NaN</td>\n",
              "      <td>NaN</td>\n",
              "      <td>NaN</td>\n",
              "      <td>NaN</td>\n",
              "      <td>NaN</td>\n",
              "      <td>Programme d'Analyse des Systèmes Educatifs de ...</td>\n",
              "      <td>NaN</td>\n",
              "      <td>NaN</td>\n",
              "      <td>NaN</td>\n",
              "      <td>NaN</td>\n",
              "      <td>NaN</td>\n",
              "      <td>NaN</td>\n",
              "      <td>NaN</td>\n",
              "    </tr>\n",
              "  </tbody>\n",
              "</table>\n",
              "</div>"
            ],
            "text/plain": [
              "           Series Code              Topic  ... License Type Unnamed: 20\n",
              "1157  LO.PASEC.FRE5.MA  Learning Outcomes  ...          NaN         NaN\n",
              "\n",
              "[1 rows x 21 columns]"
            ]
          },
          "metadata": {
            "tags": []
          },
          "execution_count": 17
        }
      ]
    },
    {
      "cell_type": "code",
      "metadata": {
        "colab": {
          "base_uri": "https://localhost:8080/",
          "height": 236
        },
        "id": "ceSFYSgI7Ztr",
        "outputId": "4b26a8d0-40b6-433f-ae1e-705f4e95584c"
      },
      "source": [
        "df_series[df_series['Series Code'] == df_data.loc[7777,'Indicator Code']]"
      ],
      "execution_count": 18,
      "outputs": [
        {
          "output_type": "execute_result",
          "data": {
            "text/html": [
              "<div>\n",
              "<style scoped>\n",
              "    .dataframe tbody tr th:only-of-type {\n",
              "        vertical-align: middle;\n",
              "    }\n",
              "\n",
              "    .dataframe tbody tr th {\n",
              "        vertical-align: top;\n",
              "    }\n",
              "\n",
              "    .dataframe thead th {\n",
              "        text-align: right;\n",
              "    }\n",
              "</style>\n",
              "<table border=\"1\" class=\"dataframe\">\n",
              "  <thead>\n",
              "    <tr style=\"text-align: right;\">\n",
              "      <th></th>\n",
              "      <th>Series Code</th>\n",
              "      <th>Topic</th>\n",
              "      <th>Indicator Name</th>\n",
              "      <th>Short definition</th>\n",
              "      <th>Long definition</th>\n",
              "      <th>Unit of measure</th>\n",
              "      <th>Periodicity</th>\n",
              "      <th>Base Period</th>\n",
              "      <th>Other notes</th>\n",
              "      <th>Aggregation method</th>\n",
              "      <th>Limitations and exceptions</th>\n",
              "      <th>Notes from original source</th>\n",
              "      <th>General comments</th>\n",
              "      <th>Source</th>\n",
              "      <th>Statistical concept and methodology</th>\n",
              "      <th>Development relevance</th>\n",
              "      <th>Related source links</th>\n",
              "      <th>Other web links</th>\n",
              "      <th>Related indicators</th>\n",
              "      <th>License Type</th>\n",
              "      <th>Unnamed: 20</th>\n",
              "    </tr>\n",
              "  </thead>\n",
              "  <tbody>\n",
              "    <tr>\n",
              "      <th>201</th>\n",
              "      <td>BAR.SEC.CMPT.5559.ZS</td>\n",
              "      <td>Attainment</td>\n",
              "      <td>Barro-Lee: Percentage of population age 55-59 ...</td>\n",
              "      <td>Percentage of population age 55-59 with second...</td>\n",
              "      <td>Percentage of population age 55-59 with second...</td>\n",
              "      <td>NaN</td>\n",
              "      <td>NaN</td>\n",
              "      <td>NaN</td>\n",
              "      <td>NaN</td>\n",
              "      <td>NaN</td>\n",
              "      <td>NaN</td>\n",
              "      <td>NaN</td>\n",
              "      <td>NaN</td>\n",
              "      <td>Robert J. Barro and Jong-Wha Lee: http://www.b...</td>\n",
              "      <td>NaN</td>\n",
              "      <td>NaN</td>\n",
              "      <td>NaN</td>\n",
              "      <td>NaN</td>\n",
              "      <td>NaN</td>\n",
              "      <td>NaN</td>\n",
              "      <td>NaN</td>\n",
              "    </tr>\n",
              "  </tbody>\n",
              "</table>\n",
              "</div>"
            ],
            "text/plain": [
              "              Series Code       Topic  ... License Type Unnamed: 20\n",
              "201  BAR.SEC.CMPT.5559.ZS  Attainment  ...          NaN         NaN\n",
              "\n",
              "[1 rows x 21 columns]"
            ]
          },
          "metadata": {
            "tags": []
          },
          "execution_count": 18
        }
      ]
    },
    {
      "cell_type": "markdown",
      "metadata": {
        "id": "3fpFSVZJ6-OV"
      },
      "source": [
        "###Looks like Indicator Code is the same as Series Code."
      ]
    },
    {
      "cell_type": "code",
      "metadata": {
        "colab": {
          "base_uri": "https://localhost:8080/"
        },
        "id": "cP3vxhcf69wv",
        "outputId": "0cda94d9-1b36-4f76-980d-8a555b548d9c"
      },
      "source": [
        "df_data['Indicator Code'].nunique()"
      ],
      "execution_count": 19,
      "outputs": [
        {
          "output_type": "execute_result",
          "data": {
            "text/plain": [
              "3665"
            ]
          },
          "metadata": {
            "tags": []
          },
          "execution_count": 19
        }
      ]
    },
    {
      "cell_type": "code",
      "metadata": {
        "colab": {
          "base_uri": "https://localhost:8080/"
        },
        "id": "hRfWmqMv8jwZ",
        "outputId": "8bbcbb9d-4dc0-46ed-a1b5-6c6d42f1d835"
      },
      "source": [
        "df_series['Series Code'].nunique()"
      ],
      "execution_count": 20,
      "outputs": [
        {
          "output_type": "execute_result",
          "data": {
            "text/plain": [
              "3665"
            ]
          },
          "metadata": {
            "tags": []
          },
          "execution_count": 20
        }
      ]
    },
    {
      "cell_type": "code",
      "metadata": {
        "colab": {
          "base_uri": "https://localhost:8080/",
          "height": 0
        },
        "id": "9do2D5HM6NIr",
        "outputId": "e8d4b8fc-5607-4437-bea3-4d9856cd4bb6"
      },
      "source": [
        "df_country.head(2)"
      ],
      "execution_count": 21,
      "outputs": [
        {
          "output_type": "execute_result",
          "data": {
            "text/html": [
              "<div>\n",
              "<style scoped>\n",
              "    .dataframe tbody tr th:only-of-type {\n",
              "        vertical-align: middle;\n",
              "    }\n",
              "\n",
              "    .dataframe tbody tr th {\n",
              "        vertical-align: top;\n",
              "    }\n",
              "\n",
              "    .dataframe thead th {\n",
              "        text-align: right;\n",
              "    }\n",
              "</style>\n",
              "<table border=\"1\" class=\"dataframe\">\n",
              "  <thead>\n",
              "    <tr style=\"text-align: right;\">\n",
              "      <th></th>\n",
              "      <th>Country Code</th>\n",
              "      <th>Short Name</th>\n",
              "      <th>Table Name</th>\n",
              "      <th>Long Name</th>\n",
              "      <th>2-alpha code</th>\n",
              "      <th>Currency Unit</th>\n",
              "      <th>Special Notes</th>\n",
              "      <th>Region</th>\n",
              "      <th>Income Group</th>\n",
              "      <th>WB-2 code</th>\n",
              "      <th>National accounts base year</th>\n",
              "      <th>National accounts reference year</th>\n",
              "      <th>SNA price valuation</th>\n",
              "      <th>Lending category</th>\n",
              "      <th>Other groups</th>\n",
              "      <th>System of National Accounts</th>\n",
              "      <th>Alternative conversion factor</th>\n",
              "      <th>PPP survey year</th>\n",
              "      <th>Balance of Payments Manual in use</th>\n",
              "      <th>External debt Reporting status</th>\n",
              "      <th>System of trade</th>\n",
              "      <th>Government Accounting concept</th>\n",
              "      <th>IMF data dissemination standard</th>\n",
              "      <th>Latest population census</th>\n",
              "      <th>Latest household survey</th>\n",
              "      <th>Source of most recent Income and expenditure data</th>\n",
              "      <th>Vital registration complete</th>\n",
              "      <th>Latest agricultural census</th>\n",
              "      <th>Latest industrial data</th>\n",
              "      <th>Latest trade data</th>\n",
              "      <th>Latest water withdrawal data</th>\n",
              "      <th>Unnamed: 31</th>\n",
              "    </tr>\n",
              "  </thead>\n",
              "  <tbody>\n",
              "    <tr>\n",
              "      <th>0</th>\n",
              "      <td>ABW</td>\n",
              "      <td>Aruba</td>\n",
              "      <td>Aruba</td>\n",
              "      <td>Aruba</td>\n",
              "      <td>AW</td>\n",
              "      <td>Aruban florin</td>\n",
              "      <td>SNA data for 2000-2011 are updated from offici...</td>\n",
              "      <td>Latin America &amp; Caribbean</td>\n",
              "      <td>High income: nonOECD</td>\n",
              "      <td>AW</td>\n",
              "      <td>2000</td>\n",
              "      <td>NaN</td>\n",
              "      <td>Value added at basic prices (VAB)</td>\n",
              "      <td>NaN</td>\n",
              "      <td>NaN</td>\n",
              "      <td>Country uses the 1993 System of National Accou...</td>\n",
              "      <td>NaN</td>\n",
              "      <td>NaN</td>\n",
              "      <td>IMF Balance of Payments Manual, 6th edition.</td>\n",
              "      <td>NaN</td>\n",
              "      <td>Special trade system</td>\n",
              "      <td>NaN</td>\n",
              "      <td>NaN</td>\n",
              "      <td>2010</td>\n",
              "      <td>NaN</td>\n",
              "      <td>NaN</td>\n",
              "      <td>Yes</td>\n",
              "      <td>NaN</td>\n",
              "      <td>NaN</td>\n",
              "      <td>2012.0</td>\n",
              "      <td>NaN</td>\n",
              "      <td>NaN</td>\n",
              "    </tr>\n",
              "    <tr>\n",
              "      <th>1</th>\n",
              "      <td>AFG</td>\n",
              "      <td>Afghanistan</td>\n",
              "      <td>Afghanistan</td>\n",
              "      <td>Islamic State of Afghanistan</td>\n",
              "      <td>AF</td>\n",
              "      <td>Afghan afghani</td>\n",
              "      <td>Fiscal year end: March 20; reporting period fo...</td>\n",
              "      <td>South Asia</td>\n",
              "      <td>Low income</td>\n",
              "      <td>AF</td>\n",
              "      <td>2002/03</td>\n",
              "      <td>NaN</td>\n",
              "      <td>Value added at basic prices (VAB)</td>\n",
              "      <td>IDA</td>\n",
              "      <td>HIPC</td>\n",
              "      <td>Country uses the 1993 System of National Accou...</td>\n",
              "      <td>NaN</td>\n",
              "      <td>NaN</td>\n",
              "      <td>NaN</td>\n",
              "      <td>Actual</td>\n",
              "      <td>General trade system</td>\n",
              "      <td>Consolidated central government</td>\n",
              "      <td>General Data Dissemination System (GDDS)</td>\n",
              "      <td>1979</td>\n",
              "      <td>Multiple Indicator Cluster Survey (MICS), 2010/11</td>\n",
              "      <td>Integrated household survey (IHS), 2008</td>\n",
              "      <td>NaN</td>\n",
              "      <td>2013/14</td>\n",
              "      <td>NaN</td>\n",
              "      <td>2012.0</td>\n",
              "      <td>2000</td>\n",
              "      <td>NaN</td>\n",
              "    </tr>\n",
              "  </tbody>\n",
              "</table>\n",
              "</div>"
            ],
            "text/plain": [
              "  Country Code   Short Name  ... Latest water withdrawal data Unnamed: 31\n",
              "0          ABW        Aruba  ...                          NaN         NaN\n",
              "1          AFG  Afghanistan  ...                         2000         NaN\n",
              "\n",
              "[2 rows x 32 columns]"
            ]
          },
          "metadata": {
            "tags": []
          },
          "execution_count": 21
        }
      ]
    },
    {
      "cell_type": "code",
      "metadata": {
        "colab": {
          "base_uri": "https://localhost:8080/"
        },
        "id": "sLfHnqWE953d",
        "outputId": "e3d739bb-4ab0-4aae-a33f-6788aed9535c"
      },
      "source": [
        "df_country.info()"
      ],
      "execution_count": 22,
      "outputs": [
        {
          "output_type": "stream",
          "text": [
            "<class 'pandas.core.frame.DataFrame'>\n",
            "RangeIndex: 241 entries, 0 to 240\n",
            "Data columns (total 32 columns):\n",
            " #   Column                                             Non-Null Count  Dtype  \n",
            "---  ------                                             --------------  -----  \n",
            " 0   Country Code                                       241 non-null    object \n",
            " 1   Short Name                                         241 non-null    object \n",
            " 2   Table Name                                         241 non-null    object \n",
            " 3   Long Name                                          241 non-null    object \n",
            " 4   2-alpha code                                       238 non-null    object \n",
            " 5   Currency Unit                                      215 non-null    object \n",
            " 6   Special Notes                                      145 non-null    object \n",
            " 7   Region                                             214 non-null    object \n",
            " 8   Income Group                                       214 non-null    object \n",
            " 9   WB-2 code                                          240 non-null    object \n",
            " 10  National accounts base year                        205 non-null    object \n",
            " 11  National accounts reference year                   32 non-null     float64\n",
            " 12  SNA price valuation                                197 non-null    object \n",
            " 13  Lending category                                   144 non-null    object \n",
            " 14  Other groups                                       58 non-null     object \n",
            " 15  System of National Accounts                        215 non-null    object \n",
            " 16  Alternative conversion factor                      47 non-null     object \n",
            " 17  PPP survey year                                    145 non-null    object \n",
            " 18  Balance of Payments Manual in use                  181 non-null    object \n",
            " 19  External debt Reporting status                     124 non-null    object \n",
            " 20  System of trade                                    200 non-null    object \n",
            " 21  Government Accounting concept                      161 non-null    object \n",
            " 22  IMF data dissemination standard                    181 non-null    object \n",
            " 23  Latest population census                           213 non-null    object \n",
            " 24  Latest household survey                            141 non-null    object \n",
            " 25  Source of most recent Income and expenditure data  160 non-null    object \n",
            " 26  Vital registration complete                        111 non-null    object \n",
            " 27  Latest agricultural census                         142 non-null    object \n",
            " 28  Latest industrial data                             107 non-null    float64\n",
            " 29  Latest trade data                                  185 non-null    float64\n",
            " 30  Latest water withdrawal data                       179 non-null    object \n",
            " 31  Unnamed: 31                                        0 non-null      float64\n",
            "dtypes: float64(4), object(28)\n",
            "memory usage: 60.4+ KB\n"
          ],
          "name": "stdout"
        }
      ]
    },
    {
      "cell_type": "code",
      "metadata": {
        "colab": {
          "base_uri": "https://localhost:8080/"
        },
        "id": "FtSBBbGY-ZXw",
        "outputId": "43c53d60-663b-4c12-ea1b-0166c1670290"
      },
      "source": [
        "df_country['Country Code'].nunique()"
      ],
      "execution_count": 23,
      "outputs": [
        {
          "output_type": "execute_result",
          "data": {
            "text/plain": [
              "241"
            ]
          },
          "metadata": {
            "tags": []
          },
          "execution_count": 23
        }
      ]
    },
    {
      "cell_type": "code",
      "metadata": {
        "colab": {
          "base_uri": "https://localhost:8080/"
        },
        "id": "bFZIOUYl-LyK",
        "outputId": "ea9bae20-7cd2-4461-b795-31ab833bfb0f"
      },
      "source": [
        "df_data['Country Code'].nunique()"
      ],
      "execution_count": 24,
      "outputs": [
        {
          "output_type": "execute_result",
          "data": {
            "text/plain": [
              "242"
            ]
          },
          "metadata": {
            "tags": []
          },
          "execution_count": 24
        }
      ]
    },
    {
      "cell_type": "code",
      "metadata": {
        "colab": {
          "base_uri": "https://localhost:8080/"
        },
        "id": "QI85qEql-Twp",
        "outputId": "6e010155-3a2e-4997-87ca-3ec65f6c7cde"
      },
      "source": [
        "df_footnote['CountryCode'].nunique()"
      ],
      "execution_count": 25,
      "outputs": [
        {
          "output_type": "execute_result",
          "data": {
            "text/plain": [
              "239"
            ]
          },
          "metadata": {
            "tags": []
          },
          "execution_count": 25
        }
      ]
    },
    {
      "cell_type": "code",
      "metadata": {
        "colab": {
          "base_uri": "https://localhost:8080/"
        },
        "id": "mIUSDued-jXF",
        "outputId": "b7d9bf59-74d7-4a54-91ff-cf9e2f0d38bd"
      },
      "source": [
        "df_country_series['Country Code'].nunique()"
      ],
      "execution_count": 26,
      "outputs": [
        {
          "output_type": "execute_result",
          "data": {
            "text/plain": [
              "211"
            ]
          },
          "metadata": {
            "tags": []
          },
          "execution_count": 26
        }
      ]
    },
    {
      "cell_type": "code",
      "metadata": {
        "colab": {
          "base_uri": "https://localhost:8080/",
          "height": 0
        },
        "id": "9ZuKLkR_6PSR",
        "outputId": "159755e9-6d83-4fb9-d109-4617f79abc6a"
      },
      "source": [
        "df_footnote.head()"
      ],
      "execution_count": 27,
      "outputs": [
        {
          "output_type": "execute_result",
          "data": {
            "text/html": [
              "<div>\n",
              "<style scoped>\n",
              "    .dataframe tbody tr th:only-of-type {\n",
              "        vertical-align: middle;\n",
              "    }\n",
              "\n",
              "    .dataframe tbody tr th {\n",
              "        vertical-align: top;\n",
              "    }\n",
              "\n",
              "    .dataframe thead th {\n",
              "        text-align: right;\n",
              "    }\n",
              "</style>\n",
              "<table border=\"1\" class=\"dataframe\">\n",
              "  <thead>\n",
              "    <tr style=\"text-align: right;\">\n",
              "      <th></th>\n",
              "      <th>CountryCode</th>\n",
              "      <th>SeriesCode</th>\n",
              "      <th>Year</th>\n",
              "      <th>DESCRIPTION</th>\n",
              "      <th>Unnamed: 4</th>\n",
              "    </tr>\n",
              "  </thead>\n",
              "  <tbody>\n",
              "    <tr>\n",
              "      <th>0</th>\n",
              "      <td>ABW</td>\n",
              "      <td>SE.PRE.ENRL.FE</td>\n",
              "      <td>YR2001</td>\n",
              "      <td>Country estimation.</td>\n",
              "      <td>NaN</td>\n",
              "    </tr>\n",
              "    <tr>\n",
              "      <th>1</th>\n",
              "      <td>ABW</td>\n",
              "      <td>SE.TER.TCHR.FE</td>\n",
              "      <td>YR2005</td>\n",
              "      <td>Country estimation.</td>\n",
              "      <td>NaN</td>\n",
              "    </tr>\n",
              "    <tr>\n",
              "      <th>2</th>\n",
              "      <td>ABW</td>\n",
              "      <td>SE.PRE.TCHR.FE</td>\n",
              "      <td>YR2000</td>\n",
              "      <td>Country estimation.</td>\n",
              "      <td>NaN</td>\n",
              "    </tr>\n",
              "    <tr>\n",
              "      <th>3</th>\n",
              "      <td>ABW</td>\n",
              "      <td>SE.SEC.ENRL.GC</td>\n",
              "      <td>YR2004</td>\n",
              "      <td>Country estimation.</td>\n",
              "      <td>NaN</td>\n",
              "    </tr>\n",
              "    <tr>\n",
              "      <th>4</th>\n",
              "      <td>ABW</td>\n",
              "      <td>SE.PRE.TCHR</td>\n",
              "      <td>YR2006</td>\n",
              "      <td>Country estimation.</td>\n",
              "      <td>NaN</td>\n",
              "    </tr>\n",
              "  </tbody>\n",
              "</table>\n",
              "</div>"
            ],
            "text/plain": [
              "  CountryCode      SeriesCode    Year          DESCRIPTION  Unnamed: 4\n",
              "0         ABW  SE.PRE.ENRL.FE  YR2001  Country estimation.         NaN\n",
              "1         ABW  SE.TER.TCHR.FE  YR2005  Country estimation.         NaN\n",
              "2         ABW  SE.PRE.TCHR.FE  YR2000  Country estimation.         NaN\n",
              "3         ABW  SE.SEC.ENRL.GC  YR2004  Country estimation.         NaN\n",
              "4         ABW     SE.PRE.TCHR  YR2006  Country estimation.         NaN"
            ]
          },
          "metadata": {
            "tags": []
          },
          "execution_count": 27
        }
      ]
    },
    {
      "cell_type": "code",
      "metadata": {
        "colab": {
          "base_uri": "https://localhost:8080/"
        },
        "id": "4yWUJewn6Rzj",
        "outputId": "66a14ff4-6cc8-4583-a068-43bec7f32a87"
      },
      "source": [
        "df_footnote.info()"
      ],
      "execution_count": 28,
      "outputs": [
        {
          "output_type": "stream",
          "text": [
            "<class 'pandas.core.frame.DataFrame'>\n",
            "RangeIndex: 643638 entries, 0 to 643637\n",
            "Data columns (total 5 columns):\n",
            " #   Column       Non-Null Count   Dtype  \n",
            "---  ------       --------------   -----  \n",
            " 0   CountryCode  643638 non-null  object \n",
            " 1   SeriesCode   643638 non-null  object \n",
            " 2   Year         643638 non-null  object \n",
            " 3   DESCRIPTION  643638 non-null  object \n",
            " 4   Unnamed: 4   0 non-null       float64\n",
            "dtypes: float64(1), object(4)\n",
            "memory usage: 24.6+ MB\n"
          ],
          "name": "stdout"
        }
      ]
    },
    {
      "cell_type": "code",
      "metadata": {
        "colab": {
          "base_uri": "https://localhost:8080/"
        },
        "id": "I9GXwJBu856B",
        "outputId": "3ec8f0f0-8f0c-4e77-9316-88704d8f82f2"
      },
      "source": [
        "df_footnote['SeriesCode'].nunique()"
      ],
      "execution_count": 29,
      "outputs": [
        {
          "output_type": "execute_result",
          "data": {
            "text/plain": [
              "1558"
            ]
          },
          "metadata": {
            "tags": []
          },
          "execution_count": 29
        }
      ]
    },
    {
      "cell_type": "code",
      "metadata": {
        "colab": {
          "base_uri": "https://localhost:8080/",
          "height": 0
        },
        "id": "YDTxbyvk9WRE",
        "outputId": "eae7bc7b-7b34-4584-ec86-09635d5f4ba0"
      },
      "source": [
        "df_footnote[df_footnote['SeriesCode'] == df_footnote.loc[0,'SeriesCode']]"
      ],
      "execution_count": 30,
      "outputs": [
        {
          "output_type": "execute_result",
          "data": {
            "text/html": [
              "<div>\n",
              "<style scoped>\n",
              "    .dataframe tbody tr th:only-of-type {\n",
              "        vertical-align: middle;\n",
              "    }\n",
              "\n",
              "    .dataframe tbody tr th {\n",
              "        vertical-align: top;\n",
              "    }\n",
              "\n",
              "    .dataframe thead th {\n",
              "        text-align: right;\n",
              "    }\n",
              "</style>\n",
              "<table border=\"1\" class=\"dataframe\">\n",
              "  <thead>\n",
              "    <tr style=\"text-align: right;\">\n",
              "      <th></th>\n",
              "      <th>CountryCode</th>\n",
              "      <th>SeriesCode</th>\n",
              "      <th>Year</th>\n",
              "      <th>DESCRIPTION</th>\n",
              "      <th>Unnamed: 4</th>\n",
              "    </tr>\n",
              "  </thead>\n",
              "  <tbody>\n",
              "    <tr>\n",
              "      <th>0</th>\n",
              "      <td>ABW</td>\n",
              "      <td>SE.PRE.ENRL.FE</td>\n",
              "      <td>YR2001</td>\n",
              "      <td>Country estimation.</td>\n",
              "      <td>NaN</td>\n",
              "    </tr>\n",
              "    <tr>\n",
              "      <th>17</th>\n",
              "      <td>ABW</td>\n",
              "      <td>SE.PRE.ENRL.FE</td>\n",
              "      <td>YR2002</td>\n",
              "      <td>Country estimation.</td>\n",
              "      <td>NaN</td>\n",
              "    </tr>\n",
              "    <tr>\n",
              "      <th>34</th>\n",
              "      <td>ABW</td>\n",
              "      <td>SE.PRE.ENRL.FE</td>\n",
              "      <td>YR1999</td>\n",
              "      <td>Country estimation.</td>\n",
              "      <td>NaN</td>\n",
              "    </tr>\n",
              "    <tr>\n",
              "      <th>43</th>\n",
              "      <td>ABW</td>\n",
              "      <td>SE.PRE.ENRL.FE</td>\n",
              "      <td>YR2006</td>\n",
              "      <td>Country estimation.</td>\n",
              "      <td>NaN</td>\n",
              "    </tr>\n",
              "    <tr>\n",
              "      <th>165</th>\n",
              "      <td>ABW</td>\n",
              "      <td>SE.PRE.ENRL.FE</td>\n",
              "      <td>YR2000</td>\n",
              "      <td>Country estimation.</td>\n",
              "      <td>NaN</td>\n",
              "    </tr>\n",
              "    <tr>\n",
              "      <th>...</th>\n",
              "      <td>...</td>\n",
              "      <td>...</td>\n",
              "      <td>...</td>\n",
              "      <td>...</td>\n",
              "      <td>...</td>\n",
              "    </tr>\n",
              "    <tr>\n",
              "      <th>641012</th>\n",
              "      <td>ZMB</td>\n",
              "      <td>SE.PRE.ENRL.FE</td>\n",
              "      <td>YR1998</td>\n",
              "      <td>Country estimation.</td>\n",
              "      <td>NaN</td>\n",
              "    </tr>\n",
              "    <tr>\n",
              "      <th>642477</th>\n",
              "      <td>ZWE</td>\n",
              "      <td>SE.PRE.ENRL.FE</td>\n",
              "      <td>YR1999</td>\n",
              "      <td>UIS estimation.</td>\n",
              "      <td>NaN</td>\n",
              "    </tr>\n",
              "    <tr>\n",
              "      <th>642478</th>\n",
              "      <td>ZWE</td>\n",
              "      <td>SE.PRE.ENRL.FE</td>\n",
              "      <td>YR2000</td>\n",
              "      <td>Country estimation.</td>\n",
              "      <td>NaN</td>\n",
              "    </tr>\n",
              "    <tr>\n",
              "      <th>642479</th>\n",
              "      <td>ZWE</td>\n",
              "      <td>SE.PRE.ENRL.FE</td>\n",
              "      <td>YR2001</td>\n",
              "      <td>UIS estimation.</td>\n",
              "      <td>NaN</td>\n",
              "    </tr>\n",
              "    <tr>\n",
              "      <th>642598</th>\n",
              "      <td>ZWE</td>\n",
              "      <td>SE.PRE.ENRL.FE</td>\n",
              "      <td>YR2002</td>\n",
              "      <td>Country estimation.</td>\n",
              "      <td>NaN</td>\n",
              "    </tr>\n",
              "  </tbody>\n",
              "</table>\n",
              "<p>2903 rows × 5 columns</p>\n",
              "</div>"
            ],
            "text/plain": [
              "       CountryCode      SeriesCode    Year          DESCRIPTION  Unnamed: 4\n",
              "0              ABW  SE.PRE.ENRL.FE  YR2001  Country estimation.         NaN\n",
              "17             ABW  SE.PRE.ENRL.FE  YR2002  Country estimation.         NaN\n",
              "34             ABW  SE.PRE.ENRL.FE  YR1999  Country estimation.         NaN\n",
              "43             ABW  SE.PRE.ENRL.FE  YR2006  Country estimation.         NaN\n",
              "165            ABW  SE.PRE.ENRL.FE  YR2000  Country estimation.         NaN\n",
              "...            ...             ...     ...                  ...         ...\n",
              "641012         ZMB  SE.PRE.ENRL.FE  YR1998  Country estimation.         NaN\n",
              "642477         ZWE  SE.PRE.ENRL.FE  YR1999      UIS estimation.         NaN\n",
              "642478         ZWE  SE.PRE.ENRL.FE  YR2000  Country estimation.         NaN\n",
              "642479         ZWE  SE.PRE.ENRL.FE  YR2001      UIS estimation.         NaN\n",
              "642598         ZWE  SE.PRE.ENRL.FE  YR2002  Country estimation.         NaN\n",
              "\n",
              "[2903 rows x 5 columns]"
            ]
          },
          "metadata": {
            "tags": []
          },
          "execution_count": 30
        }
      ]
    },
    {
      "cell_type": "code",
      "metadata": {
        "colab": {
          "base_uri": "https://localhost:8080/"
        },
        "id": "tZL-8VxmPjXD",
        "outputId": "c322620d-3b85-4c4f-d3bb-1fd1ca433d34"
      },
      "source": [
        "df_data.columns"
      ],
      "execution_count": 31,
      "outputs": [
        {
          "output_type": "execute_result",
          "data": {
            "text/plain": [
              "Index(['Country Name', 'Country Code', 'Indicator Name', 'Indicator Code',\n",
              "       '1970', '1971', '1972', '1973', '1974', '1975', '1976', '1977', '1978',\n",
              "       '1979', '1980', '1981', '1982', '1983', '1984', '1985', '1986', '1987',\n",
              "       '1988', '1989', '1990', '1991', '1992', '1993', '1994', '1995', '1996',\n",
              "       '1997', '1998', '1999', '2000', '2001', '2002', '2003', '2004', '2005',\n",
              "       '2006', '2007', '2008', '2009', '2010', '2011', '2012', '2013', '2014',\n",
              "       '2015', '2016', '2017', '2020', '2025', '2030', '2035', '2040', '2045',\n",
              "       '2050', '2055', '2060', '2065', '2070', '2075', '2080', '2085', '2090',\n",
              "       '2095', '2100', 'Unnamed: 69'],\n",
              "      dtype='object')"
            ]
          },
          "metadata": {
            "tags": []
          },
          "execution_count": 31
        }
      ]
    },
    {
      "cell_type": "code",
      "metadata": {
        "id": "LwWnQUvmSY1P"
      },
      "source": [
        "df_data = df_data[['Country Name', 'Country Code', 'Indicator Name', 'Indicator Code',\n",
        "        '2000', '2001', '2002', '2003', '2004', '2005',\n",
        "       '2006', '2007', '2008', '2009', '2010', '2011', '2012', '2013', '2014',\n",
        "       '2015']]"
      ],
      "execution_count": 32,
      "outputs": []
    },
    {
      "cell_type": "code",
      "metadata": {
        "id": "SDaTcEQOSiAk"
      },
      "source": [
        "count = 0\n",
        "my_list = []\n",
        "for elem in df_data['Indicator Name']:\n",
        "  if 'Expenditure' in elem:\n",
        "    my_list.append(df_data.loc[count,:])     \n",
        "  else:\n",
        "    pass\n",
        "  count = count + 1"
      ],
      "execution_count": 33,
      "outputs": []
    },
    {
      "cell_type": "code",
      "metadata": {
        "id": "meI_fxAxVdBi"
      },
      "source": [
        "df_exp_data = pd.DataFrame(my_list)"
      ],
      "execution_count": 34,
      "outputs": []
    },
    {
      "cell_type": "code",
      "metadata": {
        "colab": {
          "base_uri": "https://localhost:8080/",
          "height": 0
        },
        "id": "Qc_vpI8AVrWG",
        "outputId": "dabeed54-53dc-4fd2-a573-78d4f1ae6abf"
      },
      "source": [
        "df_exp_data.head()"
      ],
      "execution_count": 35,
      "outputs": [
        {
          "output_type": "execute_result",
          "data": {
            "text/html": [
              "<div>\n",
              "<style scoped>\n",
              "    .dataframe tbody tr th:only-of-type {\n",
              "        vertical-align: middle;\n",
              "    }\n",
              "\n",
              "    .dataframe tbody tr th {\n",
              "        vertical-align: top;\n",
              "    }\n",
              "\n",
              "    .dataframe thead th {\n",
              "        text-align: right;\n",
              "    }\n",
              "</style>\n",
              "<table border=\"1\" class=\"dataframe\">\n",
              "  <thead>\n",
              "    <tr style=\"text-align: right;\">\n",
              "      <th></th>\n",
              "      <th>Country Name</th>\n",
              "      <th>Country Code</th>\n",
              "      <th>Indicator Name</th>\n",
              "      <th>Indicator Code</th>\n",
              "      <th>2000</th>\n",
              "      <th>2001</th>\n",
              "      <th>2002</th>\n",
              "      <th>2003</th>\n",
              "      <th>2004</th>\n",
              "      <th>2005</th>\n",
              "      <th>2006</th>\n",
              "      <th>2007</th>\n",
              "      <th>2008</th>\n",
              "      <th>2009</th>\n",
              "      <th>2010</th>\n",
              "      <th>2011</th>\n",
              "      <th>2012</th>\n",
              "      <th>2013</th>\n",
              "      <th>2014</th>\n",
              "      <th>2015</th>\n",
              "    </tr>\n",
              "  </thead>\n",
              "  <tbody>\n",
              "    <tr>\n",
              "      <th>1224</th>\n",
              "      <td>Arab World</td>\n",
              "      <td>ARB</td>\n",
              "      <td>Expenditure on education as % of total governm...</td>\n",
              "      <td>SE.XPD.TOTL.GB.ZS</td>\n",
              "      <td>NaN</td>\n",
              "      <td>NaN</td>\n",
              "      <td>NaN</td>\n",
              "      <td>NaN</td>\n",
              "      <td>NaN</td>\n",
              "      <td>NaN</td>\n",
              "      <td>NaN</td>\n",
              "      <td>NaN</td>\n",
              "      <td>NaN</td>\n",
              "      <td>NaN</td>\n",
              "      <td>NaN</td>\n",
              "      <td>NaN</td>\n",
              "      <td>NaN</td>\n",
              "      <td>NaN</td>\n",
              "      <td>NaN</td>\n",
              "      <td>NaN</td>\n",
              "    </tr>\n",
              "    <tr>\n",
              "      <th>1225</th>\n",
              "      <td>Arab World</td>\n",
              "      <td>ARB</td>\n",
              "      <td>Expenditure on education not allocated by leve...</td>\n",
              "      <td>UIS.XPUBP.UK</td>\n",
              "      <td>NaN</td>\n",
              "      <td>NaN</td>\n",
              "      <td>NaN</td>\n",
              "      <td>NaN</td>\n",
              "      <td>NaN</td>\n",
              "      <td>NaN</td>\n",
              "      <td>NaN</td>\n",
              "      <td>NaN</td>\n",
              "      <td>NaN</td>\n",
              "      <td>NaN</td>\n",
              "      <td>NaN</td>\n",
              "      <td>NaN</td>\n",
              "      <td>NaN</td>\n",
              "      <td>NaN</td>\n",
              "      <td>NaN</td>\n",
              "      <td>NaN</td>\n",
              "    </tr>\n",
              "    <tr>\n",
              "      <th>1226</th>\n",
              "      <td>Arab World</td>\n",
              "      <td>ARB</td>\n",
              "      <td>Expenditure on lower secondary as % of governm...</td>\n",
              "      <td>UIS.XPUBP.2</td>\n",
              "      <td>NaN</td>\n",
              "      <td>NaN</td>\n",
              "      <td>NaN</td>\n",
              "      <td>NaN</td>\n",
              "      <td>NaN</td>\n",
              "      <td>NaN</td>\n",
              "      <td>NaN</td>\n",
              "      <td>NaN</td>\n",
              "      <td>NaN</td>\n",
              "      <td>NaN</td>\n",
              "      <td>NaN</td>\n",
              "      <td>NaN</td>\n",
              "      <td>NaN</td>\n",
              "      <td>NaN</td>\n",
              "      <td>NaN</td>\n",
              "      <td>NaN</td>\n",
              "    </tr>\n",
              "    <tr>\n",
              "      <th>1227</th>\n",
              "      <td>Arab World</td>\n",
              "      <td>ARB</td>\n",
              "      <td>Expenditure on lower secondary as % of total g...</td>\n",
              "      <td>UIS.XGOVEXP.IMF.2</td>\n",
              "      <td>NaN</td>\n",
              "      <td>NaN</td>\n",
              "      <td>NaN</td>\n",
              "      <td>NaN</td>\n",
              "      <td>NaN</td>\n",
              "      <td>NaN</td>\n",
              "      <td>NaN</td>\n",
              "      <td>NaN</td>\n",
              "      <td>NaN</td>\n",
              "      <td>NaN</td>\n",
              "      <td>NaN</td>\n",
              "      <td>NaN</td>\n",
              "      <td>NaN</td>\n",
              "      <td>NaN</td>\n",
              "      <td>NaN</td>\n",
              "      <td>NaN</td>\n",
              "    </tr>\n",
              "    <tr>\n",
              "      <th>1228</th>\n",
              "      <td>Arab World</td>\n",
              "      <td>ARB</td>\n",
              "      <td>Expenditure on post-secondary non-tertiary as ...</td>\n",
              "      <td>UIS.XPUBP.4</td>\n",
              "      <td>NaN</td>\n",
              "      <td>NaN</td>\n",
              "      <td>NaN</td>\n",
              "      <td>NaN</td>\n",
              "      <td>NaN</td>\n",
              "      <td>NaN</td>\n",
              "      <td>NaN</td>\n",
              "      <td>NaN</td>\n",
              "      <td>NaN</td>\n",
              "      <td>NaN</td>\n",
              "      <td>NaN</td>\n",
              "      <td>NaN</td>\n",
              "      <td>NaN</td>\n",
              "      <td>NaN</td>\n",
              "      <td>NaN</td>\n",
              "      <td>NaN</td>\n",
              "    </tr>\n",
              "  </tbody>\n",
              "</table>\n",
              "</div>"
            ],
            "text/plain": [
              "     Country Name Country Code  ... 2014 2015\n",
              "1224   Arab World          ARB  ...  NaN  NaN\n",
              "1225   Arab World          ARB  ...  NaN  NaN\n",
              "1226   Arab World          ARB  ...  NaN  NaN\n",
              "1227   Arab World          ARB  ...  NaN  NaN\n",
              "1228   Arab World          ARB  ...  NaN  NaN\n",
              "\n",
              "[5 rows x 20 columns]"
            ]
          },
          "metadata": {
            "tags": []
          },
          "execution_count": 35
        }
      ]
    },
    {
      "cell_type": "code",
      "metadata": {
        "colab": {
          "base_uri": "https://localhost:8080/"
        },
        "id": "8t_Wq5zIWJLk",
        "outputId": "2487b158-d9b9-4167-89f1-6a7221381ccb"
      },
      "source": [
        "df_exp_data.columns"
      ],
      "execution_count": 36,
      "outputs": [
        {
          "output_type": "execute_result",
          "data": {
            "text/plain": [
              "Index(['Country Name', 'Country Code', 'Indicator Name', 'Indicator Code',\n",
              "       '2000', '2001', '2002', '2003', '2004', '2005', '2006', '2007', '2008',\n",
              "       '2009', '2010', '2011', '2012', '2013', '2014', '2015'],\n",
              "      dtype='object')"
            ]
          },
          "metadata": {
            "tags": []
          },
          "execution_count": 36
        }
      ]
    },
    {
      "cell_type": "code",
      "metadata": {
        "colab": {
          "base_uri": "https://localhost:8080/"
        },
        "id": "xoz1-ErxVu5Z",
        "outputId": "35279432-4d92-4ad2-fee8-3367b3fb9072"
      },
      "source": [
        "df_exp_data.info()"
      ],
      "execution_count": 37,
      "outputs": [
        {
          "output_type": "stream",
          "text": [
            "<class 'pandas.core.frame.DataFrame'>\n",
            "Int64Index: 4356 entries, 1224 to 884506\n",
            "Data columns (total 20 columns):\n",
            " #   Column          Non-Null Count  Dtype  \n",
            "---  ------          --------------  -----  \n",
            " 0   Country Name    4356 non-null   object \n",
            " 1   Country Code    4356 non-null   object \n",
            " 2   Indicator Name  4356 non-null   object \n",
            " 3   Indicator Code  4356 non-null   object \n",
            " 4   2000            913 non-null    float64\n",
            " 5   2001            987 non-null    float64\n",
            " 6   2002            1120 non-null   float64\n",
            " 7   2003            929 non-null    float64\n",
            " 8   2004            1132 non-null   float64\n",
            " 9   2005            1061 non-null   float64\n",
            " 10  2006            1063 non-null   float64\n",
            " 11  2007            1111 non-null   float64\n",
            " 12  2008            1246 non-null   float64\n",
            " 13  2009            1345 non-null   float64\n",
            " 14  2010            1468 non-null   float64\n",
            " 15  2011            1418 non-null   float64\n",
            " 16  2012            1259 non-null   float64\n",
            " 17  2013            1116 non-null   float64\n",
            " 18  2014            697 non-null    float64\n",
            " 19  2015            163 non-null    float64\n",
            "dtypes: float64(16), object(4)\n",
            "memory usage: 714.7+ KB\n"
          ],
          "name": "stdout"
        }
      ]
    },
    {
      "cell_type": "markdown",
      "metadata": {
        "id": "tMmSJ0aQV1c1"
      },
      "source": [
        "### Looks like 2010 has the most non null values, let's do an analysis for that year."
      ]
    },
    {
      "cell_type": "code",
      "metadata": {
        "id": "F-E7Jl2aV1LE"
      },
      "source": [
        "df_expData_2010 = df_exp_data[['Country Name', 'Country Code', 'Indicator Name', 'Indicator Code','2010']]"
      ],
      "execution_count": 38,
      "outputs": []
    },
    {
      "cell_type": "code",
      "metadata": {
        "id": "z5DWknlaWacg"
      },
      "source": [
        "df_expData_2010 = df_expData_2010[~df_expData_2010['2010'].isna()]"
      ],
      "execution_count": 39,
      "outputs": []
    },
    {
      "cell_type": "code",
      "metadata": {
        "colab": {
          "base_uri": "https://localhost:8080/"
        },
        "id": "IDlfZ9TrafYI",
        "outputId": "72352654-78be-4c85-ef49-72ecbfabd7c4"
      },
      "source": [
        "df_expData_2010.shape"
      ],
      "execution_count": 40,
      "outputs": [
        {
          "output_type": "execute_result",
          "data": {
            "text/plain": [
              "(1468, 5)"
            ]
          },
          "metadata": {
            "tags": []
          },
          "execution_count": 40
        }
      ]
    },
    {
      "cell_type": "code",
      "metadata": {
        "colab": {
          "base_uri": "https://localhost:8080/"
        },
        "id": "p_dPVo08aCu9",
        "outputId": "5094af53-2f61-44e0-ce74-5dbc4916dd2c"
      },
      "source": [
        "df_expData_2010['Indicator Name'].unique()"
      ],
      "execution_count": 41,
      "outputs": [
        {
          "output_type": "execute_result",
          "data": {
            "text/plain": [
              "array(['Expenditure on education as % of total government expenditure (%)',\n",
              "       'Expenditure on primary as % of government expenditure on education (%)',\n",
              "       'Expenditure on secondary as % of government expenditure on education (%)',\n",
              "       'Expenditure on tertiary as % of government expenditure on education (%)',\n",
              "       'Expenditure on education not allocated by level as % of government expenditure on education (%)',\n",
              "       'Expenditure on post-secondary non-tertiary as % of government expenditure on education (%)',\n",
              "       'Expenditure on pre-primary as % of government expenditure on education (%)',\n",
              "       'Expenditure on lower secondary as % of government expenditure on education (%)',\n",
              "       'Expenditure on lower secondary as % of total government expenditure (%)',\n",
              "       'Expenditure on pre-primary as % of total government expenditure (%)',\n",
              "       'Expenditure on primary as % of total government expenditure (%)',\n",
              "       'Expenditure on secondary as % of total government expenditure (%)',\n",
              "       'Expenditure on tertiary as % of total government expenditure (%)',\n",
              "       'Expenditure on upper secondary as % of government expenditure on education (%)',\n",
              "       'Expenditure on upper secondary as % of total government expenditure (%)',\n",
              "       'Expenditure on post-secondary non-tertiary as % of total government expenditure (%)',\n",
              "       'Expenditure on secondary and post-secondary non-tertiary vocational as % of government expenditure on education (%)',\n",
              "       'Expenditure on secondary and post-secondary non-tertiary vocational education as % of total government expenditure (%)'],\n",
              "      dtype=object)"
            ]
          },
          "metadata": {
            "tags": []
          },
          "execution_count": 41
        }
      ]
    },
    {
      "cell_type": "code",
      "metadata": {
        "id": "_1UZNQKUailE"
      },
      "source": [
        "df_expData_2010 = df_expData_2010[df_expData_2010['Indicator Name'] == 'Expenditure on education as % of total government expenditure (%)']"
      ],
      "execution_count": 42,
      "outputs": []
    },
    {
      "cell_type": "code",
      "metadata": {
        "colab": {
          "base_uri": "https://localhost:8080/",
          "height": 419
        },
        "id": "6n00ydJYbDxy",
        "outputId": "730c5a99-f1fb-435b-fb39-46c5a6168883"
      },
      "source": [
        "df_expData_2010.sort_values('2010',ascending=False)"
      ],
      "execution_count": 43,
      "outputs": [
        {
          "output_type": "execute_result",
          "data": {
            "text/html": [
              "<div>\n",
              "<style scoped>\n",
              "    .dataframe tbody tr th:only-of-type {\n",
              "        vertical-align: middle;\n",
              "    }\n",
              "\n",
              "    .dataframe tbody tr th {\n",
              "        vertical-align: top;\n",
              "    }\n",
              "\n",
              "    .dataframe thead th {\n",
              "        text-align: right;\n",
              "    }\n",
              "</style>\n",
              "<table border=\"1\" class=\"dataframe\">\n",
              "  <thead>\n",
              "    <tr style=\"text-align: right;\">\n",
              "      <th></th>\n",
              "      <th>Country Name</th>\n",
              "      <th>Country Code</th>\n",
              "      <th>Indicator Name</th>\n",
              "      <th>Indicator Code</th>\n",
              "      <th>2010</th>\n",
              "    </tr>\n",
              "  </thead>\n",
              "  <tbody>\n",
              "    <tr>\n",
              "      <th>257774</th>\n",
              "      <td>Congo, Rep.</td>\n",
              "      <td>COG</td>\n",
              "      <td>Expenditure on education as % of total governm...</td>\n",
              "      <td>SE.XPD.TOTL.GB.ZS</td>\n",
              "      <td>29.018391</td>\n",
              "    </tr>\n",
              "    <tr>\n",
              "      <th>323744</th>\n",
              "      <td>Ethiopia</td>\n",
              "      <td>ETH</td>\n",
              "      <td>Expenditure on education as % of total governm...</td>\n",
              "      <td>SE.XPD.TOTL.GB.ZS</td>\n",
              "      <td>26.304041</td>\n",
              "    </tr>\n",
              "    <tr>\n",
              "      <th>591289</th>\n",
              "      <td>Namibia</td>\n",
              "      <td>NAM</td>\n",
              "      <td>Expenditure on education as % of total governm...</td>\n",
              "      <td>SE.XPD.TOTL.GB.ZS</td>\n",
              "      <td>26.193251</td>\n",
              "    </tr>\n",
              "    <tr>\n",
              "      <th>166149</th>\n",
              "      <td>Benin</td>\n",
              "      <td>BEN</td>\n",
              "      <td>Expenditure on education as % of total governm...</td>\n",
              "      <td>SE.XPD.TOTL.GB.ZS</td>\n",
              "      <td>26.143961</td>\n",
              "    </tr>\n",
              "    <tr>\n",
              "      <th>814854</th>\n",
              "      <td>Tunisia</td>\n",
              "      <td>TUN</td>\n",
              "      <td>Expenditure on education as % of total governm...</td>\n",
              "      <td>SE.XPD.TOTL.GB.ZS</td>\n",
              "      <td>24.398001</td>\n",
              "    </tr>\n",
              "    <tr>\n",
              "      <th>...</th>\n",
              "      <td>...</td>\n",
              "      <td>...</td>\n",
              "      <td>...</td>\n",
              "      <td>...</td>\n",
              "      <td>...</td>\n",
              "    </tr>\n",
              "    <tr>\n",
              "      <th>485004</th>\n",
              "      <td>Lao PDR</td>\n",
              "      <td>LAO</td>\n",
              "      <td>Expenditure on education as % of total governm...</td>\n",
              "      <td>SE.XPD.TOTL.GB.ZS</td>\n",
              "      <td>7.275950</td>\n",
              "    </tr>\n",
              "    <tr>\n",
              "      <th>228454</th>\n",
              "      <td>Central African Republic</td>\n",
              "      <td>CAF</td>\n",
              "      <td>Expenditure on education as % of total governm...</td>\n",
              "      <td>SE.XPD.TOTL.GB.ZS</td>\n",
              "      <td>6.475380</td>\n",
              "    </tr>\n",
              "    <tr>\n",
              "      <th>569299</th>\n",
              "      <td>Monaco</td>\n",
              "      <td>MCO</td>\n",
              "      <td>Expenditure on education as % of total governm...</td>\n",
              "      <td>SE.XPD.TOTL.GB.ZS</td>\n",
              "      <td>6.363220</td>\n",
              "    </tr>\n",
              "    <tr>\n",
              "      <th>492334</th>\n",
              "      <td>Lebanon</td>\n",
              "      <td>LBN</td>\n",
              "      <td>Expenditure on education as % of total governm...</td>\n",
              "      <td>SE.XPD.TOTL.GB.ZS</td>\n",
              "      <td>5.534290</td>\n",
              "    </tr>\n",
              "    <tr>\n",
              "      <th>195469</th>\n",
              "      <td>Brunei Darussalam</td>\n",
              "      <td>BRN</td>\n",
              "      <td>Expenditure on education as % of total governm...</td>\n",
              "      <td>SE.XPD.TOTL.GB.ZS</td>\n",
              "      <td>5.291540</td>\n",
              "    </tr>\n",
              "  </tbody>\n",
              "</table>\n",
              "<p>124 rows × 5 columns</p>\n",
              "</div>"
            ],
            "text/plain": [
              "                    Country Name Country Code  ...     Indicator Code       2010\n",
              "257774               Congo, Rep.          COG  ...  SE.XPD.TOTL.GB.ZS  29.018391\n",
              "323744                  Ethiopia          ETH  ...  SE.XPD.TOTL.GB.ZS  26.304041\n",
              "591289                   Namibia          NAM  ...  SE.XPD.TOTL.GB.ZS  26.193251\n",
              "166149                     Benin          BEN  ...  SE.XPD.TOTL.GB.ZS  26.143961\n",
              "814854                   Tunisia          TUN  ...  SE.XPD.TOTL.GB.ZS  24.398001\n",
              "...                          ...          ...  ...                ...        ...\n",
              "485004                   Lao PDR          LAO  ...  SE.XPD.TOTL.GB.ZS   7.275950\n",
              "228454  Central African Republic          CAF  ...  SE.XPD.TOTL.GB.ZS   6.475380\n",
              "569299                    Monaco          MCO  ...  SE.XPD.TOTL.GB.ZS   6.363220\n",
              "492334                   Lebanon          LBN  ...  SE.XPD.TOTL.GB.ZS   5.534290\n",
              "195469         Brunei Darussalam          BRN  ...  SE.XPD.TOTL.GB.ZS   5.291540\n",
              "\n",
              "[124 rows x 5 columns]"
            ]
          },
          "metadata": {
            "tags": []
          },
          "execution_count": 43
        }
      ]
    },
    {
      "cell_type": "code",
      "metadata": {
        "id": "tKwxrqlXWqe2"
      },
      "source": [
        "count2 = 0\n",
        "my_list2 = []\n",
        "for elem in df_data['Indicator Name']:\n",
        "  if 'GDP per capita, PPP (current international $)' in elem:\n",
        "    my_list2.append(df_data.loc[count2,:])     \n",
        "  else:\n",
        "    pass\n",
        "  count2 = count2 + 1"
      ],
      "execution_count": 44,
      "outputs": []
    },
    {
      "cell_type": "code",
      "metadata": {
        "id": "Cx2Ao88pW0x3"
      },
      "source": [
        "df_GDP_2010 = pd.DataFrame(my_list2)[['Country Name', 'Country Code', 'Indicator Name', 'Indicator Code','2010']]"
      ],
      "execution_count": 45,
      "outputs": []
    },
    {
      "cell_type": "code",
      "metadata": {
        "id": "xo5aGa_9YqmD"
      },
      "source": [
        "df_GDP_2010 = df_GDP_2010[~df_GDP_2010['2010'].isna()]"
      ],
      "execution_count": 46,
      "outputs": []
    },
    {
      "cell_type": "code",
      "metadata": {
        "id": "3X1buCrxZCq4"
      },
      "source": [
        "df_Exp_GDP = pd.merge(df_expData_2010, df_GDP_2010, on =['Country Name','Country Code'], suffixes = ('_Expediture','_GDP'))"
      ],
      "execution_count": 47,
      "outputs": []
    },
    {
      "cell_type": "code",
      "metadata": {
        "colab": {
          "base_uri": "https://localhost:8080/",
          "height": 283
        },
        "id": "E2JTw96Ya4J6",
        "outputId": "6b44b53c-f90b-4db7-80bf-405021fafafd"
      },
      "source": [
        "df_Exp_GDP['2010_GDP'].plot(kind='box')"
      ],
      "execution_count": 48,
      "outputs": [
        {
          "output_type": "execute_result",
          "data": {
            "text/plain": [
              "<matplotlib.axes._subplots.AxesSubplot at 0x7f6c9f88fc90>"
            ]
          },
          "metadata": {
            "tags": []
          },
          "execution_count": 48
        },
        {
          "output_type": "display_data",
          "data": {
            "image/png": "[encoded data removed]",
            "text/plain": [
              "<Figure size 432x288 with 1 Axes>"
            ]
          },
          "metadata": {
            "tags": [],
            "needs_background": "light"
          }
        }
      ]
    },
    {
      "cell_type": "code",
      "metadata": {
        "id": "VAaNvFgYfW6S"
      },
      "source": [
        "count3 = 0\n",
        "my_list3 = []\n",
        "for elem in df_data['Indicator Name']:\n",
        "  if 'literacy' in elem:\n",
        "    my_list3.append(df_data.loc[count3,:])     \n",
        "  else:\n",
        "    pass\n",
        "  count3 = count3 + 1"
      ],
      "execution_count": 49,
      "outputs": []
    },
    {
      "cell_type": "code",
      "metadata": {
        "id": "EhNXHvt7hgBF"
      },
      "source": [
        "df_literacy = pd.DataFrame(my_list3)"
      ],
      "execution_count": 50,
      "outputs": []
    },
    {
      "cell_type": "code",
      "metadata": {
        "colab": {
          "base_uri": "https://localhost:8080/"
        },
        "id": "2xfyOe5nhzN8",
        "outputId": "55512282-d9dd-4eb1-81e8-427041e6def4"
      },
      "source": [
        "df_literacy['Indicator Name'].unique()"
      ],
      "execution_count": 51,
      "outputs": [
        {
          "output_type": "execute_result",
          "data": {
            "text/plain": [
              "array(['Adult literacy rate, population 15+ years, both sexes (%)',\n",
              "       'Adult literacy rate, population 15+ years, female (%)',\n",
              "       'Adult literacy rate, population 15+ years, gender parity index (GPI)',\n",
              "       'Adult literacy rate, population 15+ years, male (%)',\n",
              "       'Elderly literacy rate, population 65+ years, both sexes (%)',\n",
              "       'Elderly literacy rate, population 65+ years, female (%)',\n",
              "       'Elderly literacy rate, population 65+ years, gender parity index (GPI)',\n",
              "       'Elderly literacy rate, population 65+ years, male (%)',\n",
              "       'PIAAC: Adults by literacy proficiency level (%). Below Level 1',\n",
              "       'PIAAC: Adults by literacy proficiency level (%). Level 1',\n",
              "       'PIAAC: Adults by literacy proficiency level (%). Level 2',\n",
              "       'PIAAC: Adults by literacy proficiency level (%). Level 3',\n",
              "       'PIAAC: Adults by literacy proficiency level (%). Level 4',\n",
              "       'PIAAC: Adults by literacy proficiency level (%). Level 5',\n",
              "       'PIAAC: Female adults by literacy proficiency level (%). Below Level 1',\n",
              "       'PIAAC: Female adults by literacy proficiency level (%). Level 1',\n",
              "       'PIAAC: Female adults by literacy proficiency level (%). Level 2',\n",
              "       'PIAAC: Female adults by literacy proficiency level (%). Level 3',\n",
              "       'PIAAC: Female adults by literacy proficiency level (%). Level 4 & 5',\n",
              "       'PIAAC: Male adults by literacy proficiency level (%). Below Level 1',\n",
              "       'PIAAC: Male adults by literacy proficiency level (%). Level 1',\n",
              "       'PIAAC: Male adults by literacy proficiency level (%). Level 2',\n",
              "       'PIAAC: Male adults by literacy proficiency level (%). Level 3',\n",
              "       'PIAAC: Male adults by literacy proficiency level (%). Level 4 & 5',\n",
              "       'PIAAC: Young adults by literacy proficiency level (%). Below Level 1',\n",
              "       'PIAAC: Young adults by literacy proficiency level (%). Level 1',\n",
              "       'PIAAC: Young adults by literacy proficiency level (%). Level 2',\n",
              "       'PIAAC: Young adults by literacy proficiency level (%). Level 3',\n",
              "       'PIAAC: Young adults by literacy proficiency level (%). Level 4 & 5',\n",
              "       'Youth literacy rate, population 15-24 years, both sexes (%)',\n",
              "       'Youth literacy rate, population 15-24 years, female (%)',\n",
              "       'Youth literacy rate, population 15-24 years, gender parity index (GPI)',\n",
              "       'Youth literacy rate, population 15-24 years, male (%)'],\n",
              "      dtype=object)"
            ]
          },
          "metadata": {
            "tags": []
          },
          "execution_count": 51
        }
      ]
    },
    {
      "cell_type": "code",
      "metadata": {
        "colab": {
          "base_uri": "https://localhost:8080/"
        },
        "id": "B0SUck4hxOug",
        "outputId": "35a5fa5a-534c-40d6-8b34-559b922dc2f8"
      },
      "source": [
        "df_literacy[df_literacy['Indicator Name'] == 'Adult literacy rate, population 15+ years, both sexes (%)'].info()"
      ],
      "execution_count": 52,
      "outputs": [
        {
          "output_type": "stream",
          "text": [
            "<class 'pandas.core.frame.DataFrame'>\n",
            "Int64Index: 242 entries, 20 to 883285\n",
            "Data columns (total 20 columns):\n",
            " #   Column          Non-Null Count  Dtype  \n",
            "---  ------          --------------  -----  \n",
            " 0   Country Name    242 non-null    object \n",
            " 1   Country Code    242 non-null    object \n",
            " 2   Indicator Name  242 non-null    object \n",
            " 3   Indicator Code  242 non-null    object \n",
            " 4   2000            62 non-null     float64\n",
            " 5   2001            50 non-null     float64\n",
            " 6   2002            39 non-null     float64\n",
            " 7   2003            31 non-null     float64\n",
            " 8   2004            38 non-null     float64\n",
            " 9   2005            40 non-null     float64\n",
            " 10  2006            46 non-null     float64\n",
            " 11  2007            55 non-null     float64\n",
            " 12  2008            51 non-null     float64\n",
            " 13  2009            52 non-null     float64\n",
            " 14  2010            67 non-null     float64\n",
            " 15  2011            77 non-null     float64\n",
            " 16  2012            62 non-null     float64\n",
            " 17  2013            50 non-null     float64\n",
            " 18  2014            57 non-null     float64\n",
            " 19  2015            33 non-null     float64\n",
            "dtypes: float64(16), object(4)\n",
            "memory usage: 39.7+ KB\n"
          ],
          "name": "stdout"
        }
      ]
    },
    {
      "cell_type": "code",
      "metadata": {
        "id": "di1Z8KlR0viW"
      },
      "source": [
        "df_literacy_2011 = df_literacy[df_literacy['Indicator Name'] == 'Adult literacy rate, population 15+ years, both sexes (%)'][['Country Name', 'Country Code', 'Indicator Name', 'Indicator Code','2011']]"
      ],
      "execution_count": 53,
      "outputs": []
    },
    {
      "cell_type": "code",
      "metadata": {
        "id": "BDktJSzh06zI"
      },
      "source": [
        "df_literacy_2011 = df_literacy_2011[~df_literacy_2011['2011'].isna()]"
      ],
      "execution_count": 54,
      "outputs": []
    },
    {
      "cell_type": "code",
      "metadata": {
        "id": "7GwgkV0S19uD"
      },
      "source": [
        "countries = ['Afghanistan', 'Bangladesh', 'Bhutan', 'India', 'Maldives', 'Nepal', 'Pakistan', 'Sri Lanka']"
      ],
      "execution_count": 55,
      "outputs": []
    },
    {
      "cell_type": "code",
      "metadata": {
        "id": "oFtU2L9i1MgB"
      },
      "source": [
        " count = 0\n",
        " list_co = []\n",
        " for record in df_literacy_2011.sort_values('2011',ascending=False)['Country Name']:\n",
        "   if record in countries:\n",
        "     list_co.append(df_literacy_2011.sort_values('2011',ascending=False).reset_index(drop=True).loc[count,:])\n",
        "   count = count + 1 "
      ],
      "execution_count": 56,
      "outputs": []
    },
    {
      "cell_type": "code",
      "metadata": {
        "colab": {
          "base_uri": "https://localhost:8080/",
          "height": 235
        },
        "id": "00s5RsXyquFl",
        "outputId": "c269e780-9ae8-4e0e-c36b-00283dfb4b8f"
      },
      "source": [
        "pd.DataFrame(list_co)[['Country Name', '2011']].set_index('Country Name')"
      ],
      "execution_count": 57,
      "outputs": [
        {
          "output_type": "execute_result",
          "data": {
            "text/html": [
              "<div>\n",
              "<style scoped>\n",
              "    .dataframe tbody tr th:only-of-type {\n",
              "        vertical-align: middle;\n",
              "    }\n",
              "\n",
              "    .dataframe tbody tr th {\n",
              "        vertical-align: top;\n",
              "    }\n",
              "\n",
              "    .dataframe thead th {\n",
              "        text-align: right;\n",
              "    }\n",
              "</style>\n",
              "<table border=\"1\" class=\"dataframe\">\n",
              "  <thead>\n",
              "    <tr style=\"text-align: right;\">\n",
              "      <th></th>\n",
              "      <th>2011</th>\n",
              "    </tr>\n",
              "    <tr>\n",
              "      <th>Country Name</th>\n",
              "      <th></th>\n",
              "    </tr>\n",
              "  </thead>\n",
              "  <tbody>\n",
              "    <tr>\n",
              "      <th>India</th>\n",
              "      <td>69.30256</td>\n",
              "    </tr>\n",
              "    <tr>\n",
              "      <th>Nepal</th>\n",
              "      <td>59.62725</td>\n",
              "    </tr>\n",
              "    <tr>\n",
              "      <th>Pakistan</th>\n",
              "      <td>54.73802</td>\n",
              "    </tr>\n",
              "    <tr>\n",
              "      <th>Bangladesh</th>\n",
              "      <td>47.07731</td>\n",
              "    </tr>\n",
              "    <tr>\n",
              "      <th>Afghanistan</th>\n",
              "      <td>31.74112</td>\n",
              "    </tr>\n",
              "  </tbody>\n",
              "</table>\n",
              "</div>"
            ],
            "text/plain": [
              "                  2011\n",
              "Country Name          \n",
              "India         69.30256\n",
              "Nepal         59.62725\n",
              "Pakistan      54.73802\n",
              "Bangladesh    47.07731\n",
              "Afghanistan   31.74112"
            ]
          },
          "metadata": {
            "tags": []
          },
          "execution_count": 57
        }
      ]
    },
    {
      "cell_type": "code",
      "metadata": {
        "colab": {
          "base_uri": "https://localhost:8080/",
          "height": 282
        },
        "id": "6jHWdAkl3OAT",
        "outputId": "51d35722-e28a-4e85-fe7c-01559606fe6d"
      },
      "source": [
        "plt.plot(pd.DataFrame(list_co)[['Country Name', '2011']].set_index('Country Name'))"
      ],
      "execution_count": 58,
      "outputs": [
        {
          "output_type": "execute_result",
          "data": {
            "text/plain": [
              "[<matplotlib.lines.Line2D at 0x7f6c9df9e0d0>]"
            ]
          },
          "metadata": {
            "tags": []
          },
          "execution_count": 58
        },
        {
          "output_type": "display_data",
          "data": {
            "image/png": "[encoded data removed]",
            "text/plain": [
              "<Figure size 432x288 with 1 Axes>"
            ]
          },
          "metadata": {
            "tags": [],
            "needs_background": "light"
          }
        }
      ]
    },
    {
      "cell_type": "markdown",
      "metadata": {
        "id": "bWcQ9fw85SuS"
      },
      "source": [
        "### **Some points to note from looking at basic information about the csv files.**\n",
        "\n",
        "1. There are a lot of columns/features with a very low amount or zero entries, they probably won't be factored in our analysis.\n",
        "2. Looks like we will have to use 2 features, Country Code and Series Code, to consolidate all the csv files.\n",
        "3. Since there is no description on any of the features, we will have to explore their names and values in order to get a gist about them.\n",
        "4. Data seems to have a lot of missing values, which might prove to be a hassle later on."
      ]
    },
    {
      "cell_type": "code",
      "metadata": {
        "id": "tl9ZImxHU17C"
      },
      "source": [
        "def get_reqDF(df,col,indicator):\n",
        "  count = 0\n",
        "  my_list = []\n",
        "  for elem in col:\n",
        "    if indicator in elem:\n",
        "      my_list.append(df.loc[count,:])     \n",
        "    else:\n",
        "      pass\n",
        "    count = count + 1\n",
        "  \n",
        "  return pd.DataFrame(my_list)"
      ],
      "execution_count": 59,
      "outputs": []
    },
    {
      "cell_type": "code",
      "metadata": {
        "id": "CTf06xTsVRwj"
      },
      "source": [
        "df_internet = get_reqDF(df_data,df_data['Indicator Name'],'Internet')"
      ],
      "execution_count": 60,
      "outputs": []
    },
    {
      "cell_type": "code",
      "metadata": {
        "colab": {
          "base_uri": "https://localhost:8080/",
          "height": 830
        },
        "id": "TZcqmTLdYqj6",
        "outputId": "2c891ce9-7e5b-48e3-eb5d-96b469f7c17e"
      },
      "source": [
        "df_internet"
      ],
      "execution_count": 61,
      "outputs": [
        {
          "output_type": "execute_result",
          "data": {
            "text/html": [
              "<div>\n",
              "<style scoped>\n",
              "    .dataframe tbody tr th:only-of-type {\n",
              "        vertical-align: middle;\n",
              "    }\n",
              "\n",
              "    .dataframe tbody tr th {\n",
              "        vertical-align: top;\n",
              "    }\n",
              "\n",
              "    .dataframe thead th {\n",
              "        text-align: right;\n",
              "    }\n",
              "</style>\n",
              "<table border=\"1\" class=\"dataframe\">\n",
              "  <thead>\n",
              "    <tr style=\"text-align: right;\">\n",
              "      <th></th>\n",
              "      <th>Country Name</th>\n",
              "      <th>Country Code</th>\n",
              "      <th>Indicator Name</th>\n",
              "      <th>Indicator Code</th>\n",
              "      <th>2000</th>\n",
              "      <th>2001</th>\n",
              "      <th>2002</th>\n",
              "      <th>2003</th>\n",
              "      <th>2004</th>\n",
              "      <th>2005</th>\n",
              "      <th>2006</th>\n",
              "      <th>2007</th>\n",
              "      <th>2008</th>\n",
              "      <th>2009</th>\n",
              "      <th>2010</th>\n",
              "      <th>2011</th>\n",
              "      <th>2012</th>\n",
              "      <th>2013</th>\n",
              "      <th>2014</th>\n",
              "      <th>2015</th>\n",
              "    </tr>\n",
              "  </thead>\n",
              "  <tbody>\n",
              "    <tr>\n",
              "      <th>1375</th>\n",
              "      <td>Arab World</td>\n",
              "      <td>ARB</td>\n",
              "      <td>Internet users (per 100 people)</td>\n",
              "      <td>IT.NET.USER.P2</td>\n",
              "      <td>1.139541</td>\n",
              "      <td>1.561288</td>\n",
              "      <td>2.693061</td>\n",
              "      <td>3.645881</td>\n",
              "      <td>7.006812</td>\n",
              "      <td>8.393142</td>\n",
              "      <td>11.654648</td>\n",
              "      <td>14.205902</td>\n",
              "      <td>18.593531</td>\n",
              "      <td>22.973689</td>\n",
              "      <td>26.747251</td>\n",
              "      <td>29.707761</td>\n",
              "      <td>34.014224</td>\n",
              "      <td>36.868602</td>\n",
              "      <td>NaN</td>\n",
              "      <td>NaN</td>\n",
              "    </tr>\n",
              "    <tr>\n",
              "      <th>5040</th>\n",
              "      <td>East Asia &amp; Pacific</td>\n",
              "      <td>EAS</td>\n",
              "      <td>Internet users (per 100 people)</td>\n",
              "      <td>IT.NET.USER.P2</td>\n",
              "      <td>5.592680</td>\n",
              "      <td>7.252166</td>\n",
              "      <td>8.993588</td>\n",
              "      <td>10.547244</td>\n",
              "      <td>12.596964</td>\n",
              "      <td>14.666359</td>\n",
              "      <td>16.617828</td>\n",
              "      <td>20.766523</td>\n",
              "      <td>25.253566</td>\n",
              "      <td>29.513198</td>\n",
              "      <td>34.230838</td>\n",
              "      <td>37.365156</td>\n",
              "      <td>40.709345</td>\n",
              "      <td>44.577349</td>\n",
              "      <td>46.812103</td>\n",
              "      <td>49.787924</td>\n",
              "    </tr>\n",
              "    <tr>\n",
              "      <th>8705</th>\n",
              "      <td>East Asia &amp; Pacific (excluding high income)</td>\n",
              "      <td>EAP</td>\n",
              "      <td>Internet users (per 100 people)</td>\n",
              "      <td>IT.NET.USER.P2</td>\n",
              "      <td>1.897116</td>\n",
              "      <td>2.779090</td>\n",
              "      <td>4.404990</td>\n",
              "      <td>5.762102</td>\n",
              "      <td>6.885265</td>\n",
              "      <td>8.319143</td>\n",
              "      <td>10.173972</td>\n",
              "      <td>14.382694</td>\n",
              "      <td>19.260138</td>\n",
              "      <td>23.769242</td>\n",
              "      <td>28.957572</td>\n",
              "      <td>32.385761</td>\n",
              "      <td>36.068349</td>\n",
              "      <td>39.708933</td>\n",
              "      <td>42.062234</td>\n",
              "      <td>45.210103</td>\n",
              "    </tr>\n",
              "    <tr>\n",
              "      <th>12370</th>\n",
              "      <td>Euro area</td>\n",
              "      <td>EMU</td>\n",
              "      <td>Internet users (per 100 people)</td>\n",
              "      <td>IT.NET.USER.P2</td>\n",
              "      <td>22.524339</td>\n",
              "      <td>27.351403</td>\n",
              "      <td>35.191466</td>\n",
              "      <td>42.096423</td>\n",
              "      <td>47.484586</td>\n",
              "      <td>51.260509</td>\n",
              "      <td>54.936501</td>\n",
              "      <td>61.383050</td>\n",
              "      <td>64.843610</td>\n",
              "      <td>67.129830</td>\n",
              "      <td>71.036722</td>\n",
              "      <td>72.001164</td>\n",
              "      <td>74.092136</td>\n",
              "      <td>75.821560</td>\n",
              "      <td>77.002322</td>\n",
              "      <td>78.666346</td>\n",
              "    </tr>\n",
              "    <tr>\n",
              "      <th>16035</th>\n",
              "      <td>Europe &amp; Central Asia</td>\n",
              "      <td>ECS</td>\n",
              "      <td>Internet users (per 100 people)</td>\n",
              "      <td>IT.NET.USER.P2</td>\n",
              "      <td>13.184147</td>\n",
              "      <td>16.405569</td>\n",
              "      <td>23.057519</td>\n",
              "      <td>28.363374</td>\n",
              "      <td>32.359086</td>\n",
              "      <td>35.226932</td>\n",
              "      <td>38.083487</td>\n",
              "      <td>43.674382</td>\n",
              "      <td>47.359045</td>\n",
              "      <td>50.566038</td>\n",
              "      <td>56.119117</td>\n",
              "      <td>58.834630</td>\n",
              "      <td>63.486253</td>\n",
              "      <td>66.306669</td>\n",
              "      <td>68.944351</td>\n",
              "      <td>71.162003</td>\n",
              "    </tr>\n",
              "    <tr>\n",
              "      <th>...</th>\n",
              "      <td>...</td>\n",
              "      <td>...</td>\n",
              "      <td>...</td>\n",
              "      <td>...</td>\n",
              "      <td>...</td>\n",
              "      <td>...</td>\n",
              "      <td>...</td>\n",
              "      <td>...</td>\n",
              "      <td>...</td>\n",
              "      <td>...</td>\n",
              "      <td>...</td>\n",
              "      <td>...</td>\n",
              "      <td>...</td>\n",
              "      <td>...</td>\n",
              "      <td>...</td>\n",
              "      <td>...</td>\n",
              "      <td>...</td>\n",
              "      <td>...</td>\n",
              "      <td>...</td>\n",
              "      <td>...</td>\n",
              "    </tr>\n",
              "    <tr>\n",
              "      <th>869980</th>\n",
              "      <td>Virgin Islands (U.S.)</td>\n",
              "      <td>VIR</td>\n",
              "      <td>Internet users (per 100 people)</td>\n",
              "      <td>IT.NET.USER.P2</td>\n",
              "      <td>13.815081</td>\n",
              "      <td>18.375766</td>\n",
              "      <td>27.494432</td>\n",
              "      <td>27.429073</td>\n",
              "      <td>27.377009</td>\n",
              "      <td>27.344320</td>\n",
              "      <td>27.332611</td>\n",
              "      <td>27.339336</td>\n",
              "      <td>27.361777</td>\n",
              "      <td>27.396510</td>\n",
              "      <td>31.220000</td>\n",
              "      <td>35.600000</td>\n",
              "      <td>40.547900</td>\n",
              "      <td>45.300000</td>\n",
              "      <td>50.070000</td>\n",
              "      <td>54.839137</td>\n",
              "    </tr>\n",
              "    <tr>\n",
              "      <th>873645</th>\n",
              "      <td>West Bank and Gaza</td>\n",
              "      <td>PSE</td>\n",
              "      <td>Internet users (per 100 people)</td>\n",
              "      <td>IT.NET.USER.P2</td>\n",
              "      <td>1.111306</td>\n",
              "      <td>1.836855</td>\n",
              "      <td>3.100092</td>\n",
              "      <td>4.130616</td>\n",
              "      <td>4.400905</td>\n",
              "      <td>16.005000</td>\n",
              "      <td>18.410000</td>\n",
              "      <td>21.176000</td>\n",
              "      <td>24.358000</td>\n",
              "      <td>32.230000</td>\n",
              "      <td>37.400000</td>\n",
              "      <td>41.080000</td>\n",
              "      <td>43.400000</td>\n",
              "      <td>46.600000</td>\n",
              "      <td>53.670000</td>\n",
              "      <td>57.424192</td>\n",
              "    </tr>\n",
              "    <tr>\n",
              "      <th>877310</th>\n",
              "      <td>Yemen, Rep.</td>\n",
              "      <td>YEM</td>\n",
              "      <td>Internet users (per 100 people)</td>\n",
              "      <td>IT.NET.USER.P2</td>\n",
              "      <td>0.082500</td>\n",
              "      <td>0.090802</td>\n",
              "      <td>0.518796</td>\n",
              "      <td>0.604734</td>\n",
              "      <td>0.881223</td>\n",
              "      <td>1.048598</td>\n",
              "      <td>1.247824</td>\n",
              "      <td>5.010000</td>\n",
              "      <td>6.890000</td>\n",
              "      <td>9.960000</td>\n",
              "      <td>12.350000</td>\n",
              "      <td>14.905000</td>\n",
              "      <td>17.446500</td>\n",
              "      <td>20.000000</td>\n",
              "      <td>22.550000</td>\n",
              "      <td>24.085409</td>\n",
              "    </tr>\n",
              "    <tr>\n",
              "      <th>880975</th>\n",
              "      <td>Zambia</td>\n",
              "      <td>ZMB</td>\n",
              "      <td>Internet users (per 100 people)</td>\n",
              "      <td>IT.NET.USER.P2</td>\n",
              "      <td>0.191072</td>\n",
              "      <td>0.233130</td>\n",
              "      <td>0.477751</td>\n",
              "      <td>0.980483</td>\n",
              "      <td>2.013550</td>\n",
              "      <td>2.851752</td>\n",
              "      <td>4.159913</td>\n",
              "      <td>4.870000</td>\n",
              "      <td>5.550000</td>\n",
              "      <td>6.310000</td>\n",
              "      <td>10.000000</td>\n",
              "      <td>11.500000</td>\n",
              "      <td>13.468200</td>\n",
              "      <td>15.400000</td>\n",
              "      <td>19.000000</td>\n",
              "      <td>21.000000</td>\n",
              "    </tr>\n",
              "    <tr>\n",
              "      <th>884640</th>\n",
              "      <td>Zimbabwe</td>\n",
              "      <td>ZWE</td>\n",
              "      <td>Internet users (per 100 people)</td>\n",
              "      <td>IT.NET.USER.P2</td>\n",
              "      <td>0.401434</td>\n",
              "      <td>0.799846</td>\n",
              "      <td>1.100000</td>\n",
              "      <td>1.800000</td>\n",
              "      <td>2.100000</td>\n",
              "      <td>2.400000</td>\n",
              "      <td>2.400000</td>\n",
              "      <td>3.000000</td>\n",
              "      <td>3.500000</td>\n",
              "      <td>4.000000</td>\n",
              "      <td>6.400000</td>\n",
              "      <td>8.400000</td>\n",
              "      <td>12.000000</td>\n",
              "      <td>15.500000</td>\n",
              "      <td>16.364740</td>\n",
              "      <td>22.742818</td>\n",
              "    </tr>\n",
              "  </tbody>\n",
              "</table>\n",
              "<p>242 rows × 20 columns</p>\n",
              "</div>"
            ],
            "text/plain": [
              "                                       Country Name  ...       2015\n",
              "1375                                     Arab World  ...        NaN\n",
              "5040                            East Asia & Pacific  ...  49.787924\n",
              "8705    East Asia & Pacific (excluding high income)  ...  45.210103\n",
              "12370                                     Euro area  ...  78.666346\n",
              "16035                         Europe & Central Asia  ...  71.162003\n",
              "...                                             ...  ...        ...\n",
              "869980                        Virgin Islands (U.S.)  ...  54.839137\n",
              "873645                           West Bank and Gaza  ...  57.424192\n",
              "877310                                  Yemen, Rep.  ...  24.085409\n",
              "880975                                       Zambia  ...  21.000000\n",
              "884640                                     Zimbabwe  ...  22.742818\n",
              "\n",
              "[242 rows x 20 columns]"
            ]
          },
          "metadata": {
            "tags": []
          },
          "execution_count": 61
        }
      ]
    },
    {
      "cell_type": "code",
      "metadata": {
        "id": "gFPrLHE1YjFj"
      },
      "source": [
        "lit_int_df =pd.merge(df_internet[['Country Name', 'Country Code', 'Indicator Name', 'Indicator Code','2011']], df_literacy_2011, on =['Country Name','Country Code'], suffixes = ('_internetUsers','_literacy'))"
      ],
      "execution_count": 62,
      "outputs": []
    },
    {
      "cell_type": "code",
      "metadata": {
        "colab": {
          "base_uri": "https://localhost:8080/",
          "height": 793
        },
        "id": "FaUwM_Klyo1j",
        "outputId": "ac4cefaf-081f-47a7-d359-cccc14d63bda"
      },
      "source": [
        "lit_int_df"
      ],
      "execution_count": 63,
      "outputs": [
        {
          "output_type": "execute_result",
          "data": {
            "text/html": [
              "<div>\n",
              "<style scoped>\n",
              "    .dataframe tbody tr th:only-of-type {\n",
              "        vertical-align: middle;\n",
              "    }\n",
              "\n",
              "    .dataframe tbody tr th {\n",
              "        vertical-align: top;\n",
              "    }\n",
              "\n",
              "    .dataframe thead th {\n",
              "        text-align: right;\n",
              "    }\n",
              "</style>\n",
              "<table border=\"1\" class=\"dataframe\">\n",
              "  <thead>\n",
              "    <tr style=\"text-align: right;\">\n",
              "      <th></th>\n",
              "      <th>Country Name</th>\n",
              "      <th>Country Code</th>\n",
              "      <th>Indicator Name_internetUsers</th>\n",
              "      <th>Indicator Code_internetUsers</th>\n",
              "      <th>2011_internetUsers</th>\n",
              "      <th>Indicator Name_literacy</th>\n",
              "      <th>Indicator Code_literacy</th>\n",
              "      <th>2011_literacy</th>\n",
              "    </tr>\n",
              "  </thead>\n",
              "  <tbody>\n",
              "    <tr>\n",
              "      <th>0</th>\n",
              "      <td>Arab World</td>\n",
              "      <td>ARB</td>\n",
              "      <td>Internet users (per 100 people)</td>\n",
              "      <td>IT.NET.USER.P2</td>\n",
              "      <td>29.707761</td>\n",
              "      <td>Adult literacy rate, population 15+ years, bot...</td>\n",
              "      <td>SE.ADT.LITR.ZS</td>\n",
              "      <td>77.364586</td>\n",
              "    </tr>\n",
              "    <tr>\n",
              "      <th>1</th>\n",
              "      <td>East Asia &amp; Pacific</td>\n",
              "      <td>EAS</td>\n",
              "      <td>Internet users (per 100 people)</td>\n",
              "      <td>IT.NET.USER.P2</td>\n",
              "      <td>37.365156</td>\n",
              "      <td>Adult literacy rate, population 15+ years, bot...</td>\n",
              "      <td>SE.ADT.LITR.ZS</td>\n",
              "      <td>95.108223</td>\n",
              "    </tr>\n",
              "    <tr>\n",
              "      <th>2</th>\n",
              "      <td>East Asia &amp; Pacific (excluding high income)</td>\n",
              "      <td>EAP</td>\n",
              "      <td>Internet users (per 100 people)</td>\n",
              "      <td>IT.NET.USER.P2</td>\n",
              "      <td>32.385761</td>\n",
              "      <td>Adult literacy rate, population 15+ years, bot...</td>\n",
              "      <td>SE.ADT.LITR.ZS</td>\n",
              "      <td>94.751671</td>\n",
              "    </tr>\n",
              "    <tr>\n",
              "      <th>3</th>\n",
              "      <td>Europe &amp; Central Asia</td>\n",
              "      <td>ECS</td>\n",
              "      <td>Internet users (per 100 people)</td>\n",
              "      <td>IT.NET.USER.P2</td>\n",
              "      <td>58.834630</td>\n",
              "      <td>Adult literacy rate, population 15+ years, bot...</td>\n",
              "      <td>SE.ADT.LITR.ZS</td>\n",
              "      <td>98.997589</td>\n",
              "    </tr>\n",
              "    <tr>\n",
              "      <th>4</th>\n",
              "      <td>Europe &amp; Central Asia (excluding high income)</td>\n",
              "      <td>ECA</td>\n",
              "      <td>Internet users (per 100 people)</td>\n",
              "      <td>IT.NET.USER.P2</td>\n",
              "      <td>40.787203</td>\n",
              "      <td>Adult literacy rate, population 15+ years, bot...</td>\n",
              "      <td>SE.ADT.LITR.ZS</td>\n",
              "      <td>98.799637</td>\n",
              "    </tr>\n",
              "    <tr>\n",
              "      <th>...</th>\n",
              "      <td>...</td>\n",
              "      <td>...</td>\n",
              "      <td>...</td>\n",
              "      <td>...</td>\n",
              "      <td>...</td>\n",
              "      <td>...</td>\n",
              "      <td>...</td>\n",
              "      <td>...</td>\n",
              "    </tr>\n",
              "    <tr>\n",
              "      <th>72</th>\n",
              "      <td>Turkey</td>\n",
              "      <td>TUR</td>\n",
              "      <td>Internet users (per 100 people)</td>\n",
              "      <td>IT.NET.USER.P2</td>\n",
              "      <td>43.065710</td>\n",
              "      <td>Adult literacy rate, population 15+ years, bot...</td>\n",
              "      <td>SE.ADT.LITR.ZS</td>\n",
              "      <td>94.106090</td>\n",
              "    </tr>\n",
              "    <tr>\n",
              "      <th>73</th>\n",
              "      <td>Uruguay</td>\n",
              "      <td>URY</td>\n",
              "      <td>Internet users (per 100 people)</td>\n",
              "      <td>IT.NET.USER.P2</td>\n",
              "      <td>51.404661</td>\n",
              "      <td>Adult literacy rate, population 15+ years, bot...</td>\n",
              "      <td>SE.ADT.LITR.ZS</td>\n",
              "      <td>98.335900</td>\n",
              "    </tr>\n",
              "    <tr>\n",
              "      <th>74</th>\n",
              "      <td>Venezuela, RB</td>\n",
              "      <td>VEN</td>\n",
              "      <td>Internet users (per 100 people)</td>\n",
              "      <td>IT.NET.USER.P2</td>\n",
              "      <td>40.220000</td>\n",
              "      <td>Adult literacy rate, population 15+ years, bot...</td>\n",
              "      <td>SE.ADT.LITR.ZS</td>\n",
              "      <td>94.770220</td>\n",
              "    </tr>\n",
              "    <tr>\n",
              "      <th>75</th>\n",
              "      <td>West Bank and Gaza</td>\n",
              "      <td>PSE</td>\n",
              "      <td>Internet users (per 100 people)</td>\n",
              "      <td>IT.NET.USER.P2</td>\n",
              "      <td>41.080000</td>\n",
              "      <td>Adult literacy rate, population 15+ years, bot...</td>\n",
              "      <td>SE.ADT.LITR.ZS</td>\n",
              "      <td>95.267240</td>\n",
              "    </tr>\n",
              "    <tr>\n",
              "      <th>76</th>\n",
              "      <td>Zimbabwe</td>\n",
              "      <td>ZWE</td>\n",
              "      <td>Internet users (per 100 people)</td>\n",
              "      <td>IT.NET.USER.P2</td>\n",
              "      <td>8.400000</td>\n",
              "      <td>Adult literacy rate, population 15+ years, bot...</td>\n",
              "      <td>SE.ADT.LITR.ZS</td>\n",
              "      <td>83.582710</td>\n",
              "    </tr>\n",
              "  </tbody>\n",
              "</table>\n",
              "<p>77 rows × 8 columns</p>\n",
              "</div>"
            ],
            "text/plain": [
              "                                     Country Name  ... 2011_literacy\n",
              "0                                      Arab World  ...     77.364586\n",
              "1                             East Asia & Pacific  ...     95.108223\n",
              "2     East Asia & Pacific (excluding high income)  ...     94.751671\n",
              "3                           Europe & Central Asia  ...     98.997589\n",
              "4   Europe & Central Asia (excluding high income)  ...     98.799637\n",
              "..                                            ...  ...           ...\n",
              "72                                         Turkey  ...     94.106090\n",
              "73                                        Uruguay  ...     98.335900\n",
              "74                                  Venezuela, RB  ...     94.770220\n",
              "75                             West Bank and Gaza  ...     95.267240\n",
              "76                                       Zimbabwe  ...     83.582710\n",
              "\n",
              "[77 rows x 8 columns]"
            ]
          },
          "metadata": {
            "tags": []
          },
          "execution_count": 63
        }
      ]
    },
    {
      "cell_type": "code",
      "metadata": {
        "colab": {
          "base_uri": "https://localhost:8080/",
          "height": 111
        },
        "id": "uhlFB3bfZ4zX",
        "outputId": "72632edf-d45e-42ac-c58c-613d68b94cad"
      },
      "source": [
        "lit_int_df.corr()"
      ],
      "execution_count": 64,
      "outputs": [
        {
          "output_type": "execute_result",
          "data": {
            "text/html": [
              "<div>\n",
              "<style scoped>\n",
              "    .dataframe tbody tr th:only-of-type {\n",
              "        vertical-align: middle;\n",
              "    }\n",
              "\n",
              "    .dataframe tbody tr th {\n",
              "        vertical-align: top;\n",
              "    }\n",
              "\n",
              "    .dataframe thead th {\n",
              "        text-align: right;\n",
              "    }\n",
              "</style>\n",
              "<table border=\"1\" class=\"dataframe\">\n",
              "  <thead>\n",
              "    <tr style=\"text-align: right;\">\n",
              "      <th></th>\n",
              "      <th>2011_internetUsers</th>\n",
              "      <th>2011_literacy</th>\n",
              "    </tr>\n",
              "  </thead>\n",
              "  <tbody>\n",
              "    <tr>\n",
              "      <th>2011_internetUsers</th>\n",
              "      <td>1.000000</td>\n",
              "      <td>0.729788</td>\n",
              "    </tr>\n",
              "    <tr>\n",
              "      <th>2011_literacy</th>\n",
              "      <td>0.729788</td>\n",
              "      <td>1.000000</td>\n",
              "    </tr>\n",
              "  </tbody>\n",
              "</table>\n",
              "</div>"
            ],
            "text/plain": [
              "                    2011_internetUsers  2011_literacy\n",
              "2011_internetUsers            1.000000       0.729788\n",
              "2011_literacy                 0.729788       1.000000"
            ]
          },
          "metadata": {
            "tags": []
          },
          "execution_count": 64
        }
      ]
    },
    {
      "cell_type": "code",
      "metadata": {
        "colab": {
          "base_uri": "https://localhost:8080/"
        },
        "id": "HqsohfovZcbx",
        "outputId": "aadf8f40-c38b-4f65-e199-a65f2a411818"
      },
      "source": [
        "df_internet.columns"
      ],
      "execution_count": 65,
      "outputs": [
        {
          "output_type": "execute_result",
          "data": {
            "text/plain": [
              "Index(['Country Name', 'Country Code', 'Indicator Name', 'Indicator Code',\n",
              "       '2000', '2001', '2002', '2003', '2004', '2005', '2006', '2007', '2008',\n",
              "       '2009', '2010', '2011', '2012', '2013', '2014', '2015'],\n",
              "      dtype='object')"
            ]
          },
          "metadata": {
            "tags": []
          },
          "execution_count": 65
        }
      ]
    },
    {
      "cell_type": "code",
      "metadata": {
        "colab": {
          "base_uri": "https://localhost:8080/",
          "height": 419
        },
        "id": "J-1Ew1-VZfam",
        "outputId": "a2e8618c-0be1-431f-89de-812aa63d22ac"
      },
      "source": [
        "df_literacy_2011"
      ],
      "execution_count": 66,
      "outputs": [
        {
          "output_type": "execute_result",
          "data": {
            "text/html": [
              "<div>\n",
              "<style scoped>\n",
              "    .dataframe tbody tr th:only-of-type {\n",
              "        vertical-align: middle;\n",
              "    }\n",
              "\n",
              "    .dataframe tbody tr th {\n",
              "        vertical-align: top;\n",
              "    }\n",
              "\n",
              "    .dataframe thead th {\n",
              "        text-align: right;\n",
              "    }\n",
              "</style>\n",
              "<table border=\"1\" class=\"dataframe\">\n",
              "  <thead>\n",
              "    <tr style=\"text-align: right;\">\n",
              "      <th></th>\n",
              "      <th>Country Name</th>\n",
              "      <th>Country Code</th>\n",
              "      <th>Indicator Name</th>\n",
              "      <th>Indicator Code</th>\n",
              "      <th>2011</th>\n",
              "    </tr>\n",
              "  </thead>\n",
              "  <tbody>\n",
              "    <tr>\n",
              "      <th>20</th>\n",
              "      <td>Arab World</td>\n",
              "      <td>ARB</td>\n",
              "      <td>Adult literacy rate, population 15+ years, bot...</td>\n",
              "      <td>SE.ADT.LITR.ZS</td>\n",
              "      <td>77.364586</td>\n",
              "    </tr>\n",
              "    <tr>\n",
              "      <th>3685</th>\n",
              "      <td>East Asia &amp; Pacific</td>\n",
              "      <td>EAS</td>\n",
              "      <td>Adult literacy rate, population 15+ years, bot...</td>\n",
              "      <td>SE.ADT.LITR.ZS</td>\n",
              "      <td>95.108223</td>\n",
              "    </tr>\n",
              "    <tr>\n",
              "      <th>7350</th>\n",
              "      <td>East Asia &amp; Pacific (excluding high income)</td>\n",
              "      <td>EAP</td>\n",
              "      <td>Adult literacy rate, population 15+ years, bot...</td>\n",
              "      <td>SE.ADT.LITR.ZS</td>\n",
              "      <td>94.751671</td>\n",
              "    </tr>\n",
              "    <tr>\n",
              "      <th>14680</th>\n",
              "      <td>Europe &amp; Central Asia</td>\n",
              "      <td>ECS</td>\n",
              "      <td>Adult literacy rate, population 15+ years, bot...</td>\n",
              "      <td>SE.ADT.LITR.ZS</td>\n",
              "      <td>98.997589</td>\n",
              "    </tr>\n",
              "    <tr>\n",
              "      <th>18345</th>\n",
              "      <td>Europe &amp; Central Asia (excluding high income)</td>\n",
              "      <td>ECA</td>\n",
              "      <td>Adult literacy rate, population 15+ years, bot...</td>\n",
              "      <td>SE.ADT.LITR.ZS</td>\n",
              "      <td>98.799637</td>\n",
              "    </tr>\n",
              "    <tr>\n",
              "      <th>...</th>\n",
              "      <td>...</td>\n",
              "      <td>...</td>\n",
              "      <td>...</td>\n",
              "      <td>...</td>\n",
              "      <td>...</td>\n",
              "    </tr>\n",
              "    <tr>\n",
              "      <th>817315</th>\n",
              "      <td>Turkey</td>\n",
              "      <td>TUR</td>\n",
              "      <td>Adult literacy rate, population 15+ years, bot...</td>\n",
              "      <td>SE.ADT.LITR.ZS</td>\n",
              "      <td>94.106090</td>\n",
              "    </tr>\n",
              "    <tr>\n",
              "      <th>850300</th>\n",
              "      <td>Uruguay</td>\n",
              "      <td>URY</td>\n",
              "      <td>Adult literacy rate, population 15+ years, bot...</td>\n",
              "      <td>SE.ADT.LITR.ZS</td>\n",
              "      <td>98.335900</td>\n",
              "    </tr>\n",
              "    <tr>\n",
              "      <th>861295</th>\n",
              "      <td>Venezuela, RB</td>\n",
              "      <td>VEN</td>\n",
              "      <td>Adult literacy rate, population 15+ years, bot...</td>\n",
              "      <td>SE.ADT.LITR.ZS</td>\n",
              "      <td>94.770220</td>\n",
              "    </tr>\n",
              "    <tr>\n",
              "      <th>872290</th>\n",
              "      <td>West Bank and Gaza</td>\n",
              "      <td>PSE</td>\n",
              "      <td>Adult literacy rate, population 15+ years, bot...</td>\n",
              "      <td>SE.ADT.LITR.ZS</td>\n",
              "      <td>95.267240</td>\n",
              "    </tr>\n",
              "    <tr>\n",
              "      <th>883285</th>\n",
              "      <td>Zimbabwe</td>\n",
              "      <td>ZWE</td>\n",
              "      <td>Adult literacy rate, population 15+ years, bot...</td>\n",
              "      <td>SE.ADT.LITR.ZS</td>\n",
              "      <td>83.582710</td>\n",
              "    </tr>\n",
              "  </tbody>\n",
              "</table>\n",
              "<p>77 rows × 5 columns</p>\n",
              "</div>"
            ],
            "text/plain": [
              "                                         Country Name  ...       2011\n",
              "20                                         Arab World  ...  77.364586\n",
              "3685                              East Asia & Pacific  ...  95.108223\n",
              "7350      East Asia & Pacific (excluding high income)  ...  94.751671\n",
              "14680                           Europe & Central Asia  ...  98.997589\n",
              "18345   Europe & Central Asia (excluding high income)  ...  98.799637\n",
              "...                                               ...  ...        ...\n",
              "817315                                         Turkey  ...  94.106090\n",
              "850300                                        Uruguay  ...  98.335900\n",
              "861295                                  Venezuela, RB  ...  94.770220\n",
              "872290                             West Bank and Gaza  ...  95.267240\n",
              "883285                                       Zimbabwe  ...  83.582710\n",
              "\n",
              "[77 rows x 5 columns]"
            ]
          },
          "metadata": {
            "tags": []
          },
          "execution_count": 66
        }
      ]
    },
    {
      "cell_type": "code",
      "metadata": {
        "colab": {
          "base_uri": "https://localhost:8080/"
        },
        "id": "f41aP1hJZqeg",
        "outputId": "5294b3d0-f6f6-4563-b480-24c2a9b699af"
      },
      "source": [
        "df_data['Indicator Name'].unique()"
      ],
      "execution_count": 67,
      "outputs": [
        {
          "output_type": "execute_result",
          "data": {
            "text/plain": [
              "array(['Adjusted net enrolment rate, lower secondary, both sexes (%)',\n",
              "       'Adjusted net enrolment rate, lower secondary, female (%)',\n",
              "       'Adjusted net enrolment rate, lower secondary, gender parity index (GPI)',\n",
              "       ..., 'Youth literacy rate, population 15-24 years, female (%)',\n",
              "       'Youth literacy rate, population 15-24 years, gender parity index (GPI)',\n",
              "       'Youth literacy rate, population 15-24 years, male (%)'],\n",
              "      dtype=object)"
            ]
          },
          "metadata": {
            "tags": []
          },
          "execution_count": 67
        }
      ]
    },
    {
      "cell_type": "code",
      "metadata": {
        "id": "5Z5Gp6GOwqSN"
      },
      "source": [
        "df_exp = get_reqDF(df_data,df_data['Indicator Name'],'Expenditure')"
      ],
      "execution_count": 68,
      "outputs": []
    },
    {
      "cell_type": "code",
      "metadata": {
        "colab": {
          "base_uri": "https://localhost:8080/"
        },
        "id": "PpgidoqmYaLi",
        "outputId": "fd63a508-c1fc-43b0-fcc9-5101a51ebded"
      },
      "source": [
        "df_exp['Indicator Name'].unique()"
      ],
      "execution_count": 69,
      "outputs": [
        {
          "output_type": "execute_result",
          "data": {
            "text/plain": [
              "array(['Expenditure on education as % of total government expenditure (%)',\n",
              "       'Expenditure on education not allocated by level as % of government expenditure on education (%)',\n",
              "       'Expenditure on lower secondary as % of government expenditure on education (%)',\n",
              "       'Expenditure on lower secondary as % of total government expenditure (%)',\n",
              "       'Expenditure on post-secondary non-tertiary as % of government expenditure on education (%)',\n",
              "       'Expenditure on post-secondary non-tertiary as % of total government expenditure (%)',\n",
              "       'Expenditure on pre-primary as % of government expenditure on education (%)',\n",
              "       'Expenditure on pre-primary as % of total government expenditure (%)',\n",
              "       'Expenditure on primary as % of government expenditure on education (%)',\n",
              "       'Expenditure on primary as % of total government expenditure (%)',\n",
              "       'Expenditure on secondary and post-secondary non-tertiary vocational as % of government expenditure on education (%)',\n",
              "       'Expenditure on secondary and post-secondary non-tertiary vocational education as % of total government expenditure (%)',\n",
              "       'Expenditure on secondary as % of government expenditure on education (%)',\n",
              "       'Expenditure on secondary as % of total government expenditure (%)',\n",
              "       'Expenditure on tertiary as % of government expenditure on education (%)',\n",
              "       'Expenditure on tertiary as % of total government expenditure (%)',\n",
              "       'Expenditure on upper secondary as % of government expenditure on education (%)',\n",
              "       'Expenditure on upper secondary as % of total government expenditure (%)'],\n",
              "      dtype=object)"
            ]
          },
          "metadata": {
            "tags": []
          },
          "execution_count": 69
        }
      ]
    },
    {
      "cell_type": "code",
      "metadata": {
        "id": "GRYQ4stoYkWY"
      },
      "source": [
        "def get_data(df,df_subset,indicator):\n",
        "  return df[df_subset == indicator]"
      ],
      "execution_count": 70,
      "outputs": []
    },
    {
      "cell_type": "code",
      "metadata": {
        "id": "7exYSpr3YrlL"
      },
      "source": [
        "df_expGen = get_data(df_data,df_data['Indicator Name'],'Expenditure on education as % of total government expenditure (%)')"
      ],
      "execution_count": 71,
      "outputs": []
    }
  ]
}