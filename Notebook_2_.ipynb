{
  "nbformat": 4,
  "nbformat_minor": 0,
  "metadata": {
    "colab": {
      "name": "Notebook 2 .ipynb",
      "provenance": [],
      "authorship_tag": "ABX9TyMJSHNF8aGpiE0xHkVR/Pfu",
      "include_colab_link": true
    },
    "kernelspec": {
      "name": "python3",
      "display_name": "Python 3"
    },
    "language_info": {
      "name": "python"
    }
  },
  "cells": [
    {
      "cell_type": "markdown",
      "metadata": {
        "id": "view-in-github",
        "colab_type": "text"
      },
      "source": [
        "<a href=\"https://colab.research.google.com/github/Sriram1717/World-Bank-Global-Education-Analysis/blob/main/Notebook_2_.ipynb\" target=\"_parent\"><img src=\"https://colab.research.google.com/assets/colab-badge.svg\" alt=\"Open In Colab\"/></a>"
      ]
    },
    {
      "cell_type": "code",
      "metadata": {
        "id": "1rRFeMmQ_YCf"
      },
      "source": [
        "import pandas as pd\n",
        "import numpy as np\n",
        "import matplotlib.pyplot as plt"
      ],
      "execution_count": null,
      "outputs": []
    },
    {
      "cell_type": "code",
      "metadata": {
        "colab": {
          "base_uri": "https://localhost:8080/"
        },
        "id": "OHwkB_xy_Ymk",
        "outputId": "1912dfda-14cb-43af-967e-9123998cc5a0"
      },
      "source": [
        "from google.colab import drive\n",
        "drive.mount('/content/drive')"
      ],
      "execution_count": null,
      "outputs": [
        {
          "output_type": "stream",
          "text": [
            "Mounted at /content/drive\n"
          ],
          "name": "stdout"
        }
      ]
    },
    {
      "cell_type": "code",
      "metadata": {
        "id": "6wK-9-qM_aaA"
      },
      "source": [
        "# df_country_series = pd.read_csv('/content/drive/MyDrive/Colab Notebooks/Almabetter/Module 1/Week 4/Copy of EdStatsCountry-Series.csv')\n",
        "df_country = pd.read_csv('/content/drive/MyDrive/Colab Notebooks/Almabetter/Module 1/Week 4/Copy of EdStatsCountry.csv')\n",
        "df_data = pd.read_csv('/content/drive/MyDrive/Colab Notebooks/Almabetter/Module 1/Week 4/Copy of EdStatsData.csv')\n",
        "# df_footnote = pd.read_csv('/content/drive/MyDrive/Colab Notebooks/Almabetter/Module 1/Week 4/Copy of EdStatsFootNote.csv')\n",
        "# df_series = pd.read_csv('/content/drive/MyDrive/Colab Notebooks/Almabetter/Module 1/Week 4/Copy of EdStatsSeries.csv')"
      ],
      "execution_count": null,
      "outputs": []
    },
    {
      "cell_type": "code",
      "metadata": {
        "id": "_E6pqpgSLAkK"
      },
      "source": [
        "def get_reqDF(df,col,indicator):\n",
        "  count = 0\n",
        "  my_list = []\n",
        "  for elem in col:\n",
        "    if indicator in elem:\n",
        "      my_list.append(df.loc[count,:])     \n",
        "    else:\n",
        "      pass\n",
        "    count = count + 1\n",
        "  \n",
        "  return pd.DataFrame(my_list).reset_index(drop=True)"
      ],
      "execution_count": null,
      "outputs": []
    },
    {
      "cell_type": "code",
      "metadata": {
        "id": "eRBLKEiTMCMo"
      },
      "source": [
        "df_exp = get_reqDF(df_data,df_data['Indicator Name'],'Expenditure')"
      ],
      "execution_count": null,
      "outputs": []
    },
    {
      "cell_type": "code",
      "metadata": {
        "colab": {
          "base_uri": "https://localhost:8080/"
        },
        "id": "fqfWNtMHNLG7",
        "outputId": "5697cb6b-3b2d-40d1-ae96-1fa13e56e77b"
      },
      "source": [
        "df_exp['Indicator Name'].unique()"
      ],
      "execution_count": null,
      "outputs": [
        {
          "output_type": "execute_result",
          "data": {
            "text/plain": [
              "array(['Expenditure on education as % of total government expenditure (%)',\n",
              "       'Expenditure on education not allocated by level as % of government expenditure on education (%)',\n",
              "       'Expenditure on lower secondary as % of government expenditure on education (%)',\n",
              "       'Expenditure on lower secondary as % of total government expenditure (%)',\n",
              "       'Expenditure on post-secondary non-tertiary as % of government expenditure on education (%)',\n",
              "       'Expenditure on post-secondary non-tertiary as % of total government expenditure (%)',\n",
              "       'Expenditure on pre-primary as % of government expenditure on education (%)',\n",
              "       'Expenditure on pre-primary as % of total government expenditure (%)',\n",
              "       'Expenditure on primary as % of government expenditure on education (%)',\n",
              "       'Expenditure on primary as % of total government expenditure (%)',\n",
              "       'Expenditure on secondary and post-secondary non-tertiary vocational as % of government expenditure on education (%)',\n",
              "       'Expenditure on secondary and post-secondary non-tertiary vocational education as % of total government expenditure (%)',\n",
              "       'Expenditure on secondary as % of government expenditure on education (%)',\n",
              "       'Expenditure on secondary as % of total government expenditure (%)',\n",
              "       'Expenditure on tertiary as % of government expenditure on education (%)',\n",
              "       'Expenditure on tertiary as % of total government expenditure (%)',\n",
              "       'Expenditure on upper secondary as % of government expenditure on education (%)',\n",
              "       'Expenditure on upper secondary as % of total government expenditure (%)'],\n",
              "      dtype=object)"
            ]
          },
          "metadata": {
            "tags": []
          },
          "execution_count": 12
        }
      ]
    },
    {
      "cell_type": "markdown",
      "metadata": {
        "id": "E4qzlZpYNR-u"
      },
      "source": [
        "### Looks like there are many differect variations of expenditure, for now I'll take education in general but I'll create a function to consider any variation of expenditure."
      ]
    },
    {
      "cell_type": "code",
      "metadata": {
        "id": "_K6xKhVgNRdC"
      },
      "source": [
        "def get_data(df,df_subset,indicator):\n",
        "  return df[df_subset == indicator]"
      ],
      "execution_count": null,
      "outputs": []
    },
    {
      "cell_type": "code",
      "metadata": {
        "id": "SspuE1ExN2wP"
      },
      "source": [
        "df_expGen = get_data(df_data,df_data['Indicator Name'],'Expenditure on education as % of total government expenditure (%)')"
      ],
      "execution_count": null,
      "outputs": []
    },
    {
      "cell_type": "code",
      "metadata": {
        "id": "Toa4zafpknRV"
      },
      "source": [
        "df_expGen"
      ],
      "execution_count": null,
      "outputs": []
    },
    {
      "cell_type": "code",
      "metadata": {
        "id": "rWZZmPgAMQ4D"
      },
      "source": [
        "df_expGen.info()"
      ],
      "execution_count": null,
      "outputs": []
    },
    {
      "cell_type": "code",
      "metadata": {
        "id": "8A151blTPOQt"
      },
      "source": [
        "df_expGen.columns"
      ],
      "execution_count": null,
      "outputs": []
    },
    {
      "cell_type": "code",
      "metadata": {
        "colab": {
          "base_uri": "https://localhost:8080/",
          "height": 337
        },
        "id": "lyDDLUF7MnTQ",
        "outputId": "30e946cb-e17a-4e6a-f7b4-98ed9ce2c560"
      },
      "source": [
        "plt.rcParams['figure.figsize'] = [10, 5]\n",
        "df_expGen.groupby('Indicator Name')[['1970', '1971', '1972', '1973', '1974', '1975', '1976', '1977', '1978',\n",
        "       '1979', '1980', '1981', '1982', '1983', '1984', '1985', '1986', '1987',\n",
        "       '1988', '1989', '1990', '1991', '1992', '1993', '1994', '1995', '1996',\n",
        "       '1997', '1998', '1999', '2000', '2001', '2002', '2003', '2004', '2005',\n",
        "       '2006', '2007', '2008', '2009', '2010', '2011', '2012', '2013', '2014',\n",
        "       '2015', '2016', '2017', '2020', '2025', '2030', '2035', '2040', '2045',\n",
        "       '2050', '2055', '2060', '2065', '2070', '2075', '2080', '2085', '2090',\n",
        "       '2095', '2100']].count().T.plot()\n",
        "plt.legend(labels = ['Expenditure on education'],loc=\"best\")      "
      ],
      "execution_count": null,
      "outputs": [
        {
          "output_type": "execute_result",
          "data": {
            "text/plain": [
              "<matplotlib.legend.Legend at 0x7f3e21a36ad0>"
            ]
          },
          "metadata": {
            "tags": []
          },
          "execution_count": 65
        },
        {
          "output_type": "display_data",
          "data": {
            "image/png": "[encoded data removed]",
            "text/plain": [
              "<Figure size 720x360 with 1 Axes>"
            ]
          },
          "metadata": {
            "tags": [],
            "needs_background": "light"
          }
        }
      ]
    },
    {
      "cell_type": "markdown",
      "metadata": {
        "id": "TU4gWFDOQQ1X"
      },
      "source": [
        "### So, not all years have data. Most amount of data is present in years 2000-2015. Since the graph peaks at 2010, let's consider 2010 for our analysis."
      ]
    },
    {
      "cell_type": "code",
      "metadata": {
        "colab": {
          "base_uri": "https://localhost:8080/",
          "height": 353
        },
        "id": "IKgUavsCQQnX",
        "outputId": "9d4ce058-bb4d-4447-cf69-4e787d45bc43"
      },
      "source": [
        "df_exp_2010 = df_expGen[['Country Name', 'Country Code', 'Indicator Name', 'Indicator Code','2010']]\n",
        "df_exp_2010 = df_exp_2010[~df_exp_2010['2010'].isna()].reset_index(drop=True).sort_values('2010',ascending= False)\n",
        "plt.rcParams['figure.figsize'] = [10, 5]\n",
        "plt.plot('Country Name', '2010', data = df_exp_2010[0:10])\n",
        "plt.xticks(rotation=15)"
      ],
      "execution_count": null,
      "outputs": [
        {
          "output_type": "execute_result",
          "data": {
            "text/plain": [
              "([0, 1, 2, 3, 4, 5, 6, 7, 8, 9], <a list of 10 Text major ticklabel objects>)"
            ]
          },
          "metadata": {
            "tags": []
          },
          "execution_count": 71
        },
        {
          "output_type": "display_data",
          "data": {
            "image/png": "[encoded data removed]",
            "text/plain": [
              "<Figure size 720x360 with 1 Axes>"
            ]
          },
          "metadata": {
            "tags": [],
            "needs_background": "light"
          }
        }
      ]
    },
    {
      "cell_type": "code",
      "metadata": {
        "id": "xvJrUOeQWp8I"
      },
      "source": [
        "df_exp = df_exp[['Country Name', 'Country Code', 'Indicator Name', 'Indicator Code','2010']]\n",
        "df_exp = df_exp[~df_exp['2010'].isna()]"
      ],
      "execution_count": null,
      "outputs": []
    },
    {
      "cell_type": "code",
      "metadata": {
        "colab": {
          "base_uri": "https://localhost:8080/",
          "height": 419
        },
        "id": "7JfY9WIWk0hk",
        "outputId": "ef88b81d-4dc4-4e3d-9dc8-c10819c9aba5"
      },
      "source": [
        "df_exp"
      ],
      "execution_count": null,
      "outputs": [
        {
          "output_type": "execute_result",
          "data": {
            "text/html": [
              "<div>\n",
              "<style scoped>\n",
              "    .dataframe tbody tr th:only-of-type {\n",
              "        vertical-align: middle;\n",
              "    }\n",
              "\n",
              "    .dataframe tbody tr th {\n",
              "        vertical-align: top;\n",
              "    }\n",
              "\n",
              "    .dataframe thead th {\n",
              "        text-align: right;\n",
              "    }\n",
              "</style>\n",
              "<table border=\"1\" class=\"dataframe\">\n",
              "  <thead>\n",
              "    <tr style=\"text-align: right;\">\n",
              "      <th></th>\n",
              "      <th>Country Name</th>\n",
              "      <th>Country Code</th>\n",
              "      <th>Indicator Name</th>\n",
              "      <th>Indicator Code</th>\n",
              "      <th>2010</th>\n",
              "    </tr>\n",
              "  </thead>\n",
              "  <tbody>\n",
              "    <tr>\n",
              "      <th>450</th>\n",
              "      <td>Afghanistan</td>\n",
              "      <td>AFG</td>\n",
              "      <td>Expenditure on education as % of total governm...</td>\n",
              "      <td>SE.XPD.TOTL.GB.ZS</td>\n",
              "      <td>17.067560</td>\n",
              "    </tr>\n",
              "    <tr>\n",
              "      <th>458</th>\n",
              "      <td>Afghanistan</td>\n",
              "      <td>AFG</td>\n",
              "      <td>Expenditure on primary as % of government expe...</td>\n",
              "      <td>SE.XPD.PRIM.ZS</td>\n",
              "      <td>62.136471</td>\n",
              "    </tr>\n",
              "    <tr>\n",
              "      <th>462</th>\n",
              "      <td>Afghanistan</td>\n",
              "      <td>AFG</td>\n",
              "      <td>Expenditure on secondary as % of government ex...</td>\n",
              "      <td>SE.XPD.SECO.ZS</td>\n",
              "      <td>26.693729</td>\n",
              "    </tr>\n",
              "    <tr>\n",
              "      <th>464</th>\n",
              "      <td>Afghanistan</td>\n",
              "      <td>AFG</td>\n",
              "      <td>Expenditure on tertiary as % of government exp...</td>\n",
              "      <td>SE.XPD.TERT.ZS</td>\n",
              "      <td>9.032170</td>\n",
              "    </tr>\n",
              "    <tr>\n",
              "      <th>523</th>\n",
              "      <td>Andorra</td>\n",
              "      <td>AND</td>\n",
              "      <td>Expenditure on education not allocated by leve...</td>\n",
              "      <td>UIS.XPUBP.UK</td>\n",
              "      <td>30.662840</td>\n",
              "    </tr>\n",
              "    <tr>\n",
              "      <th>...</th>\n",
              "      <td>...</td>\n",
              "      <td>...</td>\n",
              "      <td>...</td>\n",
              "      <td>...</td>\n",
              "      <td>...</td>\n",
              "    </tr>\n",
              "    <tr>\n",
              "      <th>4347</th>\n",
              "      <td>Zimbabwe</td>\n",
              "      <td>ZWE</td>\n",
              "      <td>Expenditure on primary as % of total governmen...</td>\n",
              "      <td>UIS.XGOVEXP.IMF.1</td>\n",
              "      <td>4.498260</td>\n",
              "    </tr>\n",
              "    <tr>\n",
              "      <th>4350</th>\n",
              "      <td>Zimbabwe</td>\n",
              "      <td>ZWE</td>\n",
              "      <td>Expenditure on secondary as % of government ex...</td>\n",
              "      <td>SE.XPD.SECO.ZS</td>\n",
              "      <td>25.604900</td>\n",
              "    </tr>\n",
              "    <tr>\n",
              "      <th>4351</th>\n",
              "      <td>Zimbabwe</td>\n",
              "      <td>ZWE</td>\n",
              "      <td>Expenditure on secondary as % of total governm...</td>\n",
              "      <td>UIS.XGOVEXP.IMF.23</td>\n",
              "      <td>2.232980</td>\n",
              "    </tr>\n",
              "    <tr>\n",
              "      <th>4352</th>\n",
              "      <td>Zimbabwe</td>\n",
              "      <td>ZWE</td>\n",
              "      <td>Expenditure on tertiary as % of government exp...</td>\n",
              "      <td>SE.XPD.TERT.ZS</td>\n",
              "      <td>22.815010</td>\n",
              "    </tr>\n",
              "    <tr>\n",
              "      <th>4353</th>\n",
              "      <td>Zimbabwe</td>\n",
              "      <td>ZWE</td>\n",
              "      <td>Expenditure on tertiary as % of total governme...</td>\n",
              "      <td>UIS.XGOVEXP.IMF.56</td>\n",
              "      <td>1.989680</td>\n",
              "    </tr>\n",
              "  </tbody>\n",
              "</table>\n",
              "<p>1468 rows × 5 columns</p>\n",
              "</div>"
            ],
            "text/plain": [
              "     Country Name Country Code  ...      Indicator Code       2010\n",
              "450   Afghanistan          AFG  ...   SE.XPD.TOTL.GB.ZS  17.067560\n",
              "458   Afghanistan          AFG  ...      SE.XPD.PRIM.ZS  62.136471\n",
              "462   Afghanistan          AFG  ...      SE.XPD.SECO.ZS  26.693729\n",
              "464   Afghanistan          AFG  ...      SE.XPD.TERT.ZS   9.032170\n",
              "523       Andorra          AND  ...        UIS.XPUBP.UK  30.662840\n",
              "...           ...          ...  ...                 ...        ...\n",
              "4347     Zimbabwe          ZWE  ...   UIS.XGOVEXP.IMF.1   4.498260\n",
              "4350     Zimbabwe          ZWE  ...      SE.XPD.SECO.ZS  25.604900\n",
              "4351     Zimbabwe          ZWE  ...  UIS.XGOVEXP.IMF.23   2.232980\n",
              "4352     Zimbabwe          ZWE  ...      SE.XPD.TERT.ZS  22.815010\n",
              "4353     Zimbabwe          ZWE  ...  UIS.XGOVEXP.IMF.56   1.989680\n",
              "\n",
              "[1468 rows x 5 columns]"
            ]
          },
          "metadata": {
            "tags": []
          },
          "execution_count": 88
        }
      ]
    },
    {
      "cell_type": "code",
      "metadata": {
        "colab": {
          "base_uri": "https://localhost:8080/",
          "height": 514
        },
        "id": "YEDA8ZNWXYnv",
        "outputId": "492d042c-b3a1-424c-a9c5-c6f7640c7cda"
      },
      "source": [
        "df_exp[df_exp['Country Name'] == 'India'].sort_values('2010',ascending=False)"
      ],
      "execution_count": null,
      "outputs": [
        {
          "output_type": "execute_result",
          "data": {
            "text/html": [
              "<div>\n",
              "<style scoped>\n",
              "    .dataframe tbody tr th:only-of-type {\n",
              "        vertical-align: middle;\n",
              "    }\n",
              "\n",
              "    .dataframe tbody tr th {\n",
              "        vertical-align: top;\n",
              "    }\n",
              "\n",
              "    .dataframe thead th {\n",
              "        text-align: right;\n",
              "    }\n",
              "</style>\n",
              "<table border=\"1\" class=\"dataframe\">\n",
              "  <thead>\n",
              "    <tr style=\"text-align: right;\">\n",
              "      <th></th>\n",
              "      <th>Country Name</th>\n",
              "      <th>Country Code</th>\n",
              "      <th>Indicator Name</th>\n",
              "      <th>Indicator Code</th>\n",
              "      <th>2010</th>\n",
              "    </tr>\n",
              "  </thead>\n",
              "  <tbody>\n",
              "    <tr>\n",
              "      <th>2046</th>\n",
              "      <td>India</td>\n",
              "      <td>IND</td>\n",
              "      <td>Expenditure on secondary as % of government ex...</td>\n",
              "      <td>SE.XPD.SECO.ZS</td>\n",
              "      <td>36.985199</td>\n",
              "    </tr>\n",
              "    <tr>\n",
              "      <th>2048</th>\n",
              "      <td>India</td>\n",
              "      <td>IND</td>\n",
              "      <td>Expenditure on tertiary as % of government exp...</td>\n",
              "      <td>SE.XPD.TERT.ZS</td>\n",
              "      <td>36.076519</td>\n",
              "    </tr>\n",
              "    <tr>\n",
              "      <th>2050</th>\n",
              "      <td>India</td>\n",
              "      <td>IND</td>\n",
              "      <td>Expenditure on upper secondary as % of governm...</td>\n",
              "      <td>UIS.XPUBP.3</td>\n",
              "      <td>26.096001</td>\n",
              "    </tr>\n",
              "    <tr>\n",
              "      <th>2042</th>\n",
              "      <td>India</td>\n",
              "      <td>IND</td>\n",
              "      <td>Expenditure on primary as % of government expe...</td>\n",
              "      <td>SE.XPD.PRIM.ZS</td>\n",
              "      <td>25.206591</td>\n",
              "    </tr>\n",
              "    <tr>\n",
              "      <th>2034</th>\n",
              "      <td>India</td>\n",
              "      <td>IND</td>\n",
              "      <td>Expenditure on education as % of total governm...</td>\n",
              "      <td>SE.XPD.TOTL.GB.ZS</td>\n",
              "      <td>11.742780</td>\n",
              "    </tr>\n",
              "    <tr>\n",
              "      <th>2036</th>\n",
              "      <td>India</td>\n",
              "      <td>IND</td>\n",
              "      <td>Expenditure on lower secondary as % of governm...</td>\n",
              "      <td>UIS.XPUBP.2</td>\n",
              "      <td>10.889210</td>\n",
              "    </tr>\n",
              "    <tr>\n",
              "      <th>2047</th>\n",
              "      <td>India</td>\n",
              "      <td>IND</td>\n",
              "      <td>Expenditure on secondary as % of total governm...</td>\n",
              "      <td>UIS.XGOVEXP.IMF.23</td>\n",
              "      <td>4.343090</td>\n",
              "    </tr>\n",
              "    <tr>\n",
              "      <th>2049</th>\n",
              "      <td>India</td>\n",
              "      <td>IND</td>\n",
              "      <td>Expenditure on tertiary as % of total governme...</td>\n",
              "      <td>UIS.XGOVEXP.IMF.56</td>\n",
              "      <td>4.236390</td>\n",
              "    </tr>\n",
              "    <tr>\n",
              "      <th>2051</th>\n",
              "      <td>India</td>\n",
              "      <td>IND</td>\n",
              "      <td>Expenditure on upper secondary as % of total g...</td>\n",
              "      <td>UIS.XGOVEXP.IMF.3</td>\n",
              "      <td>3.064400</td>\n",
              "    </tr>\n",
              "    <tr>\n",
              "      <th>2043</th>\n",
              "      <td>India</td>\n",
              "      <td>IND</td>\n",
              "      <td>Expenditure on primary as % of total governmen...</td>\n",
              "      <td>UIS.XGOVEXP.IMF.1</td>\n",
              "      <td>2.959950</td>\n",
              "    </tr>\n",
              "    <tr>\n",
              "      <th>2037</th>\n",
              "      <td>India</td>\n",
              "      <td>IND</td>\n",
              "      <td>Expenditure on lower secondary as % of total g...</td>\n",
              "      <td>UIS.XGOVEXP.IMF.2</td>\n",
              "      <td>1.278700</td>\n",
              "    </tr>\n",
              "    <tr>\n",
              "      <th>2040</th>\n",
              "      <td>India</td>\n",
              "      <td>IND</td>\n",
              "      <td>Expenditure on pre-primary as % of government ...</td>\n",
              "      <td>UIS.XPUBP.0</td>\n",
              "      <td>1.062760</td>\n",
              "    </tr>\n",
              "    <tr>\n",
              "      <th>2038</th>\n",
              "      <td>India</td>\n",
              "      <td>IND</td>\n",
              "      <td>Expenditure on post-secondary non-tertiary as ...</td>\n",
              "      <td>UIS.XPUBP.4</td>\n",
              "      <td>0.668920</td>\n",
              "    </tr>\n",
              "    <tr>\n",
              "      <th>2041</th>\n",
              "      <td>India</td>\n",
              "      <td>IND</td>\n",
              "      <td>Expenditure on pre-primary as % of total gover...</td>\n",
              "      <td>UIS.XGOVEXP.IMF.0</td>\n",
              "      <td>0.124800</td>\n",
              "    </tr>\n",
              "    <tr>\n",
              "      <th>2039</th>\n",
              "      <td>India</td>\n",
              "      <td>IND</td>\n",
              "      <td>Expenditure on post-secondary non-tertiary as ...</td>\n",
              "      <td>UIS.XGOVEXP.IMF.4</td>\n",
              "      <td>0.078550</td>\n",
              "    </tr>\n",
              "  </tbody>\n",
              "</table>\n",
              "</div>"
            ],
            "text/plain": [
              "     Country Name Country Code  ...      Indicator Code       2010\n",
              "2046        India          IND  ...      SE.XPD.SECO.ZS  36.985199\n",
              "2048        India          IND  ...      SE.XPD.TERT.ZS  36.076519\n",
              "2050        India          IND  ...         UIS.XPUBP.3  26.096001\n",
              "2042        India          IND  ...      SE.XPD.PRIM.ZS  25.206591\n",
              "2034        India          IND  ...   SE.XPD.TOTL.GB.ZS  11.742780\n",
              "2036        India          IND  ...         UIS.XPUBP.2  10.889210\n",
              "2047        India          IND  ...  UIS.XGOVEXP.IMF.23   4.343090\n",
              "2049        India          IND  ...  UIS.XGOVEXP.IMF.56   4.236390\n",
              "2051        India          IND  ...   UIS.XGOVEXP.IMF.3   3.064400\n",
              "2043        India          IND  ...   UIS.XGOVEXP.IMF.1   2.959950\n",
              "2037        India          IND  ...   UIS.XGOVEXP.IMF.2   1.278700\n",
              "2040        India          IND  ...         UIS.XPUBP.0   1.062760\n",
              "2038        India          IND  ...         UIS.XPUBP.4   0.668920\n",
              "2041        India          IND  ...   UIS.XGOVEXP.IMF.0   0.124800\n",
              "2039        India          IND  ...   UIS.XGOVEXP.IMF.4   0.078550\n",
              "\n",
              "[15 rows x 5 columns]"
            ]
          },
          "metadata": {
            "tags": []
          },
          "execution_count": 86
        }
      ]
    },
    {
      "cell_type": "code",
      "metadata": {
        "colab": {
          "base_uri": "https://localhost:8080/"
        },
        "id": "4zoE1xUWPXGq",
        "outputId": "c275d688-7ad6-40fc-e1d4-f00fbee4f0a8"
      },
      "source": [
        "df_GDP = get_reqDF(df_data,df_data['Indicator Name'],'GDP')\n",
        "df_GDP['Indicator Name'].unique()"
      ],
      "execution_count": null,
      "outputs": [
        {
          "output_type": "execute_result",
          "data": {
            "text/plain": [
              "array(['GDP at market prices (constant 2005 US$)',\n",
              "       'GDP at market prices (current US$)',\n",
              "       'GDP per capita (constant 2005 US$)',\n",
              "       'GDP per capita (current US$)',\n",
              "       'GDP per capita, PPP (constant 2011 international $)',\n",
              "       'GDP per capita, PPP (current international $)',\n",
              "       'GDP, PPP (constant 2011 international $)',\n",
              "       'GDP, PPP (current international $)',\n",
              "       'Government expenditure in educational institutions as % of GDP (%)',\n",
              "       'Government expenditure in post-secondary non-tertiary institutions as % of GDP (%)',\n",
              "       'Government expenditure in pre-primary institutions as % of GDP (%)',\n",
              "       'Government expenditure in primary institutions as % of GDP (%)',\n",
              "       'Government expenditure in secondary institutions education as % of GDP (%)',\n",
              "       'Government expenditure in tertiary institutions as % of GDP (%)',\n",
              "       'Government expenditure on education as % of GDP (%)',\n",
              "       'Government expenditure on post-secondary non-tertiary education as % of GDP (%)',\n",
              "       'Government expenditure on pre-primary education as % of GDP (%)',\n",
              "       'Government expenditure on primary education as % of GDP (%)',\n",
              "       'Government expenditure on secondary and post-secondary non-tertiary vocational education as % of GDP (%)',\n",
              "       'Government expenditure on secondary education as % of GDP (%)',\n",
              "       'Government expenditure on tertiary education as % of GDP (%)',\n",
              "       'Government expenditure per lower secondary student as % of GDP per capita (%)',\n",
              "       'Government expenditure per post-secondary non-tertiary student as % of GDP per capita (%)',\n",
              "       'Government expenditure per primary student as % of GDP per capita (%)',\n",
              "       'Government expenditure per secondary student as % of GDP per capita (%)',\n",
              "       'Government expenditure per tertiary student as % of GDP per capita (%)',\n",
              "       'Government expenditure per upper secondary student as % of GDP per capita (%)'],\n",
              "      dtype=object)"
            ]
          },
          "metadata": {
            "tags": []
          },
          "execution_count": 67
        }
      ]
    },
    {
      "cell_type": "code",
      "metadata": {
        "colab": {
          "base_uri": "https://localhost:8080/",
          "height": 337
        },
        "id": "Rf5uumGQUZ4x",
        "outputId": "c5679247-3231-4ac8-c490-c9556163b2b1"
      },
      "source": [
        "df_GDP_Edu = df_GDP[df_GDP['Indicator Name'] == 'Government expenditure in educational institutions as % of GDP (%)']\n",
        "plt.rcParams['figure.figsize'] = [10, 5]\n",
        "df_GDP_Edu.groupby('Indicator Name')[['1970', '1971', '1972', '1973', '1974', '1975', '1976', '1977', '1978',\n",
        "       '1979', '1980', '1981', '1982', '1983', '1984', '1985', '1986', '1987',\n",
        "       '1988', '1989', '1990', '1991', '1992', '1993', '1994', '1995', '1996',\n",
        "       '1997', '1998', '1999', '2000', '2001', '2002', '2003', '2004', '2005',\n",
        "       '2006', '2007', '2008', '2009', '2010', '2011', '2012', '2013', '2014',\n",
        "       '2015', '2016', '2017', '2020', '2025', '2030', '2035', '2040', '2045',\n",
        "       '2050', '2055', '2060', '2065', '2070', '2075', '2080', '2085', '2090',\n",
        "       '2095', '2100']].count().T.plot()\n",
        "plt.legend(labels = ['Expenditure on education as % of GDP'],loc=\"best\") "
      ],
      "execution_count": null,
      "outputs": [
        {
          "output_type": "execute_result",
          "data": {
            "text/plain": [
              "<matplotlib.legend.Legend at 0x7f3e21a37c10>"
            ]
          },
          "metadata": {
            "tags": []
          },
          "execution_count": 70
        },
        {
          "output_type": "display_data",
          "data": {
            "image/png": "[encoded data removed]",
            "text/plain": [
              "<Figure size 720x360 with 1 Axes>"
            ]
          },
          "metadata": {
            "tags": [],
            "needs_background": "light"
          }
        }
      ]
    },
    {
      "cell_type": "markdown",
      "metadata": {
        "id": "Swe5uS_OVKm_"
      },
      "source": [
        "### Peak of data available is at 2010 again."
      ]
    },
    {
      "cell_type": "code",
      "metadata": {
        "colab": {
          "base_uri": "https://localhost:8080/",
          "height": 419
        },
        "id": "5HUmZpaQUw4L",
        "outputId": "6e0532ac-ea21-452c-dba3-4806883c0545"
      },
      "source": [
        "df_GDP_Edu = df_GDP_Edu[['Country Name', 'Country Code', 'Indicator Name', 'Indicator Code','2010']]\n",
        "df_GDP_Edu[~df_GDP_Edu['2010'].isna()].reset_index(drop=True).sort_values('2010',ascending= False).reset_index(drop=True)"
      ],
      "execution_count": null,
      "outputs": [
        {
          "output_type": "execute_result",
          "data": {
            "text/html": [
              "<div>\n",
              "<style scoped>\n",
              "    .dataframe tbody tr th:only-of-type {\n",
              "        vertical-align: middle;\n",
              "    }\n",
              "\n",
              "    .dataframe tbody tr th {\n",
              "        vertical-align: top;\n",
              "    }\n",
              "\n",
              "    .dataframe thead th {\n",
              "        text-align: right;\n",
              "    }\n",
              "</style>\n",
              "<table border=\"1\" class=\"dataframe\">\n",
              "  <thead>\n",
              "    <tr style=\"text-align: right;\">\n",
              "      <th></th>\n",
              "      <th>Country Name</th>\n",
              "      <th>Country Code</th>\n",
              "      <th>Indicator Name</th>\n",
              "      <th>Indicator Code</th>\n",
              "      <th>2010</th>\n",
              "    </tr>\n",
              "  </thead>\n",
              "  <tbody>\n",
              "    <tr>\n",
              "      <th>0</th>\n",
              "      <td>Cuba</td>\n",
              "      <td>CUB</td>\n",
              "      <td>Government expenditure in educational institut...</td>\n",
              "      <td>UIS.XGDP.FSGOV.FDINSTADM.FFD</td>\n",
              "      <td>12.83727</td>\n",
              "    </tr>\n",
              "    <tr>\n",
              "      <th>1</th>\n",
              "      <td>Timor-Leste</td>\n",
              "      <td>TLS</td>\n",
              "      <td>Government expenditure in educational institut...</td>\n",
              "      <td>UIS.XGDP.FSGOV.FDINSTADM.FFD</td>\n",
              "      <td>9.86167</td>\n",
              "    </tr>\n",
              "    <tr>\n",
              "      <th>2</th>\n",
              "      <td>Moldova</td>\n",
              "      <td>MDA</td>\n",
              "      <td>Government expenditure in educational institut...</td>\n",
              "      <td>UIS.XGDP.FSGOV.FDINSTADM.FFD</td>\n",
              "      <td>8.79377</td>\n",
              "    </tr>\n",
              "    <tr>\n",
              "      <th>3</th>\n",
              "      <td>Namibia</td>\n",
              "      <td>NAM</td>\n",
              "      <td>Government expenditure in educational institut...</td>\n",
              "      <td>UIS.XGDP.FSGOV.FDINSTADM.FFD</td>\n",
              "      <td>7.57800</td>\n",
              "    </tr>\n",
              "    <tr>\n",
              "      <th>4</th>\n",
              "      <td>Denmark</td>\n",
              "      <td>DNK</td>\n",
              "      <td>Government expenditure in educational institut...</td>\n",
              "      <td>UIS.XGDP.FSGOV.FDINSTADM.FFD</td>\n",
              "      <td>7.35344</td>\n",
              "    </tr>\n",
              "    <tr>\n",
              "      <th>...</th>\n",
              "      <td>...</td>\n",
              "      <td>...</td>\n",
              "      <td>...</td>\n",
              "      <td>...</td>\n",
              "      <td>...</td>\n",
              "    </tr>\n",
              "    <tr>\n",
              "      <th>104</th>\n",
              "      <td>Guinea-Bissau</td>\n",
              "      <td>GNB</td>\n",
              "      <td>Government expenditure in educational institut...</td>\n",
              "      <td>UIS.XGDP.FSGOV.FDINSTADM.FFD</td>\n",
              "      <td>1.86424</td>\n",
              "    </tr>\n",
              "    <tr>\n",
              "      <th>105</th>\n",
              "      <td>Lebanon</td>\n",
              "      <td>LBN</td>\n",
              "      <td>Government expenditure in educational institut...</td>\n",
              "      <td>UIS.XGDP.FSGOV.FDINSTADM.FFD</td>\n",
              "      <td>1.62997</td>\n",
              "    </tr>\n",
              "    <tr>\n",
              "      <th>106</th>\n",
              "      <td>Congo, Dem. Rep.</td>\n",
              "      <td>COD</td>\n",
              "      <td>Government expenditure in educational institut...</td>\n",
              "      <td>UIS.XGDP.FSGOV.FDINSTADM.FFD</td>\n",
              "      <td>1.60244</td>\n",
              "    </tr>\n",
              "    <tr>\n",
              "      <th>107</th>\n",
              "      <td>Monaco</td>\n",
              "      <td>MCO</td>\n",
              "      <td>Government expenditure in educational institut...</td>\n",
              "      <td>UIS.XGDP.FSGOV.FDINSTADM.FFD</td>\n",
              "      <td>1.19108</td>\n",
              "    </tr>\n",
              "    <tr>\n",
              "      <th>108</th>\n",
              "      <td>Central African Republic</td>\n",
              "      <td>CAF</td>\n",
              "      <td>Government expenditure in educational institut...</td>\n",
              "      <td>UIS.XGDP.FSGOV.FDINSTADM.FFD</td>\n",
              "      <td>1.10496</td>\n",
              "    </tr>\n",
              "  </tbody>\n",
              "</table>\n",
              "<p>109 rows × 5 columns</p>\n",
              "</div>"
            ],
            "text/plain": [
              "                 Country Name  ...      2010\n",
              "0                        Cuba  ...  12.83727\n",
              "1                 Timor-Leste  ...   9.86167\n",
              "2                     Moldova  ...   8.79377\n",
              "3                     Namibia  ...   7.57800\n",
              "4                     Denmark  ...   7.35344\n",
              "..                        ...  ...       ...\n",
              "104             Guinea-Bissau  ...   1.86424\n",
              "105                   Lebanon  ...   1.62997\n",
              "106          Congo, Dem. Rep.  ...   1.60244\n",
              "107                    Monaco  ...   1.19108\n",
              "108  Central African Republic  ...   1.10496\n",
              "\n",
              "[109 rows x 5 columns]"
            ]
          },
          "metadata": {
            "tags": []
          },
          "execution_count": 89
        }
      ]
    },
    {
      "cell_type": "code",
      "metadata": {
        "id": "DFBI622plGQe"
      },
      "source": [
        ""
      ],
      "execution_count": null,
      "outputs": []
    }
  ]
}